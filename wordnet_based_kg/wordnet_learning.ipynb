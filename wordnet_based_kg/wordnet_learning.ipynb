{
 "cells": [
  {
   "cell_type": "markdown",
   "id": "b6bb51ee",
   "metadata": {},
   "source": [
    "# 熟悉wordnet"
   ]
  },
  {
   "cell_type": "markdown",
   "id": "d2967db7",
   "metadata": {},
   "source": [
    "- **WordNet**是普林斯顿大学认知科学实验室在心理学教授乔治·A·米勒的指导下建立和维护的英语字典。开发工作从1985年开始，从此以后该项目接受了超过300万美元的资助（主要来源于对机器翻译有兴趣的政府机构）。由于它包含了语义信息，所以有别于通常意义上的字典。WordNet根据词条的意义将它们分组，每一个具有相同意义的字条（**Lemma**）组称为一个**synset**（同义词集合）。WordNet为每一个synset提供了简短，概要的定义，并记录不同synset之间的语义关系。\n",
    "\n",
    "- WordNet的开发有两个目的：\n",
    "    1. 它既是一个字典，又是一个辞典，它比单纯的辞典或词典都更加易于使用。\n",
    "    2. 支持自动的文本分析以及人工智能应用。"
   ]
  },
  {
   "cell_type": "code",
   "execution_count": 2,
   "id": "eb3b0915",
   "metadata": {},
   "outputs": [],
   "source": [
    "import nltk\n",
    "from nltk.corpus import wordnet"
   ]
  },
  {
   "cell_type": "markdown",
   "id": "12f4b438",
   "metadata": {},
   "source": [
    "### 查看词所在的词集"
   ]
  },
  {
   "cell_type": "code",
   "execution_count": 2,
   "id": "d90601d4",
   "metadata": {},
   "outputs": [
    {
     "data": {
      "text/plain": [
       "[Synset('machine.n.01'),\n",
       " Synset('machine.n.02'),\n",
       " Synset('machine.n.03'),\n",
       " Synset('machine.n.04'),\n",
       " Synset('machine.n.05'),\n",
       " Synset('car.n.01'),\n",
       " Synset('machine.v.01'),\n",
       " Synset('machine.v.02')]"
      ]
     },
     "execution_count": 2,
     "metadata": {},
     "output_type": "execute_result"
    }
   ],
   "source": [
    "wordnet.synsets(\"machine\")"
   ]
  },
  {
   "cell_type": "markdown",
   "id": "1cbd00cd",
   "metadata": {},
   "source": [
    "### 查询一个同义词集的定义"
   ]
  },
  {
   "cell_type": "code",
   "execution_count": 4,
   "id": "f24501e3",
   "metadata": {},
   "outputs": [
    {
     "data": {
      "text/plain": [
       "'any mechanical or electrical device that transmits or modifies energy to perform or assist in the performance of human tasks'"
      ]
     },
     "execution_count": 4,
     "metadata": {},
     "output_type": "execute_result"
    }
   ],
   "source": [
    "wordnet.synset('machine.n.01').definition()"
   ]
  },
  {
   "cell_type": "code",
   "execution_count": 5,
   "id": "ddc5e93e",
   "metadata": {},
   "outputs": [
    {
     "data": {
      "text/plain": [
       "True"
      ]
     },
     "execution_count": 5,
     "metadata": {},
     "output_type": "execute_result"
    }
   ],
   "source": [
    "wordnet.synset('machine.n.01') == wordnet.synsets('machine')[0]"
   ]
  },
  {
   "cell_type": "code",
   "execution_count": 6,
   "id": "d64a1a1e",
   "metadata": {},
   "outputs": [
    {
     "data": {
      "text/plain": [
       "'any mechanical or electrical device that transmits or modifies energy to perform or assist in the performance of human tasks'"
      ]
     },
     "execution_count": 6,
     "metadata": {},
     "output_type": "execute_result"
    }
   ],
   "source": [
    "wordnet.synsets('machine')[0].definition()"
   ]
  },
  {
   "cell_type": "markdown",
   "id": "52ccdcca",
   "metadata": {},
   "source": [
    "### 查询词义的例子"
   ]
  },
  {
   "cell_type": "code",
   "execution_count": 7,
   "id": "f3f5010d",
   "metadata": {},
   "outputs": [
    {
     "data": {
      "text/plain": [
       "['the boxer was a magnificent fighting machine']"
      ]
     },
     "execution_count": 7,
     "metadata": {},
     "output_type": "execute_result"
    }
   ],
   "source": [
    "wordnet.synset('machine.n.02').examples()"
   ]
  },
  {
   "cell_type": "code",
   "execution_count": 8,
   "id": "9252be64",
   "metadata": {},
   "outputs": [
    {
     "data": {
      "text/plain": [
       "[Lemma('machine.n.02.machine')]"
      ]
     },
     "execution_count": 8,
     "metadata": {},
     "output_type": "execute_result"
    }
   ],
   "source": [
    "wordnet.synset('machine.n.02').lemmas()"
   ]
  },
  {
   "cell_type": "code",
   "execution_count": 9,
   "id": "a686698b",
   "metadata": {},
   "outputs": [
    {
     "data": {
      "text/plain": [
       "['he was endorsed by the Democratic machine']"
      ]
     },
     "execution_count": 9,
     "metadata": {},
     "output_type": "execute_result"
    }
   ],
   "source": [
    "wordnet.synset('machine.n.05').examples()"
   ]
  },
  {
   "cell_type": "code",
   "execution_count": 10,
   "id": "dd2b31b0",
   "metadata": {},
   "outputs": [
    {
     "data": {
      "text/plain": [
       "[Lemma('machine.n.05.machine'), Lemma('machine.n.05.political_machine')]"
      ]
     },
     "execution_count": 10,
     "metadata": {},
     "output_type": "execute_result"
    }
   ],
   "source": [
    "wordnet.synset('machine.n.05').lemmas()"
   ]
  },
  {
   "cell_type": "code",
   "execution_count": 15,
   "id": "4707358e",
   "metadata": {},
   "outputs": [
    {
     "data": {
      "text/plain": [
       "['he needs a car to get to work']"
      ]
     },
     "execution_count": 15,
     "metadata": {},
     "output_type": "execute_result"
    }
   ],
   "source": [
    "wordnet.synset('car.n.01').examples()"
   ]
  },
  {
   "cell_type": "code",
   "execution_count": 16,
   "id": "fa9d8a22",
   "metadata": {},
   "outputs": [
    {
     "data": {
      "text/plain": [
       "[Lemma('car.n.01.car'),\n",
       " Lemma('car.n.01.auto'),\n",
       " Lemma('car.n.01.automobile'),\n",
       " Lemma('car.n.01.machine'),\n",
       " Lemma('car.n.01.motorcar')]"
      ]
     },
     "execution_count": 16,
     "metadata": {},
     "output_type": "execute_result"
    }
   ],
   "source": [
    "wordnet.synset('car.n.01').lemmas()"
   ]
  },
  {
   "cell_type": "code",
   "execution_count": 21,
   "id": "3b1cc1e3",
   "metadata": {},
   "outputs": [
    {
     "data": {
      "text/plain": [
       "[Synset('machine.n.01'),\n",
       " Synset('machine.n.02'),\n",
       " Synset('machine.n.03'),\n",
       " Synset('machine.n.04'),\n",
       " Synset('machine.n.05'),\n",
       " Synset('car.n.01'),\n",
       " Synset('machine.v.01'),\n",
       " Synset('machine.v.02')]"
      ]
     },
     "execution_count": 21,
     "metadata": {},
     "output_type": "execute_result"
    }
   ],
   "source": [
    "wordnet.synsets('machine')"
   ]
  },
  {
   "cell_type": "code",
   "execution_count": 26,
   "id": "11120183",
   "metadata": {},
   "outputs": [
    {
     "data": {
      "text/plain": [
       "['car', 'auto', 'automobile', 'machine', 'motorcar']"
      ]
     },
     "execution_count": 26,
     "metadata": {},
     "output_type": "execute_result"
    }
   ],
   "source": [
    "wordnet.synset('car.n.01').lemma_names()"
   ]
  },
  {
   "cell_type": "markdown",
   "id": "c61f9f00",
   "metadata": {},
   "source": [
    "### 利用词条查询反义词"
   ]
  },
  {
   "cell_type": "code",
   "execution_count": 34,
   "id": "aff9355d",
   "metadata": {},
   "outputs": [
    {
     "data": {
      "text/plain": [
       "[Synset('beautiful.a.01'), Synset('beautiful.s.02')]"
      ]
     },
     "execution_count": 34,
     "metadata": {},
     "output_type": "execute_result"
    }
   ],
   "source": [
    "wordnet.synsets('beautiful')"
   ]
  },
  {
   "cell_type": "code",
   "execution_count": 111,
   "id": "b8a4381d",
   "metadata": {},
   "outputs": [
    {
     "data": {
      "text/plain": [
       "'ugly'"
      ]
     },
     "execution_count": 111,
     "metadata": {},
     "output_type": "execute_result"
    }
   ],
   "source": [
    "wordnet.synset('beautiful.a.01').lemmas()[0].antonyms()[0].name()"
   ]
  },
  {
   "cell_type": "markdown",
   "id": "2f312393",
   "metadata": {},
   "source": [
    "### 查询两个词之间的语义相似度"
   ]
  },
  {
   "cell_type": "code",
   "execution_count": 40,
   "id": "f0ee60d0",
   "metadata": {},
   "outputs": [
    {
     "data": {
      "text/plain": [
       "0.09090909090909091"
      ]
     },
     "execution_count": 40,
     "metadata": {},
     "output_type": "execute_result"
    }
   ],
   "source": [
    "wordnet.synset(\"computer.n.01\").path_similarity(wordnet.synset(\"calculator.n.01\"))"
   ]
  },
  {
   "cell_type": "code",
   "execution_count": 41,
   "id": "3a67eb69",
   "metadata": {},
   "outputs": [
    {
     "data": {
      "text/plain": [
       "0.07692307692307693"
      ]
     },
     "execution_count": 41,
     "metadata": {},
     "output_type": "execute_result"
    }
   ],
   "source": [
    "wordnet.synset(\"computer.n.01\").path_similarity(wordnet.synset(\"apple.n.01\"))"
   ]
  },
  {
   "cell_type": "markdown",
   "id": "bde1e31c",
   "metadata": {},
   "source": [
    "### 概念之间的关系\n",
    "\n",
    "- hypernym，表示某一个概念的上位词，假如A的上位词是B，简单的理解即是B是一个大的概念，A是B概念的一种情况，A更加具体。\n",
    "- hyponym，跟上位词对应，也有下位词概念\n",
    "- holonym, 整体关系词。假如A是B的整体关系词，则意味着B是A的一个组成部分，A是一个整体"
   ]
  },
  {
   "cell_type": "markdown",
   "id": "cbfff4a6",
   "metadata": {},
   "source": [
    "#### 名词同义词集概念关系\n",
    "+ hyperonymy 上位概念\n",
    "+ hyponymy  下位概念\n",
    "+ part_holonym  整体概念\n",
    "+ part_meronym  部件概念"
   ]
  },
  {
   "cell_type": "code",
   "execution_count": 42,
   "id": "065afd5d",
   "metadata": {},
   "outputs": [
    {
     "data": {
      "text/plain": [
       "[Synset('machine.n.01')]"
      ]
     },
     "execution_count": 42,
     "metadata": {},
     "output_type": "execute_result"
    }
   ],
   "source": [
    "# 上位概念\n",
    "wordnet.synset(\"computer.n.01\").hypernyms()"
   ]
  },
  {
   "cell_type": "code",
   "execution_count": 43,
   "id": "e8b86f12",
   "metadata": {},
   "outputs": [
    {
     "data": {
      "text/plain": [
       "[Synset('analog_computer.n.01'),\n",
       " Synset('digital_computer.n.01'),\n",
       " Synset('home_computer.n.01'),\n",
       " Synset('node.n.08'),\n",
       " Synset('number_cruncher.n.02'),\n",
       " Synset('pari-mutuel_machine.n.01'),\n",
       " Synset('predictor.n.03'),\n",
       " Synset('server.n.03'),\n",
       " Synset('turing_machine.n.01'),\n",
       " Synset('web_site.n.01')]"
      ]
     },
     "execution_count": 43,
     "metadata": {},
     "output_type": "execute_result"
    }
   ],
   "source": [
    "# 下位概念\n",
    "wordnet.synset(\"computer.n.01\").hyponyms()"
   ]
  },
  {
   "cell_type": "code",
   "execution_count": 44,
   "id": "db2843e2",
   "metadata": {},
   "outputs": [
    {
     "data": {
      "text/plain": [
       "[Synset('platform.n.03')]"
      ]
     },
     "execution_count": 44,
     "metadata": {},
     "output_type": "execute_result"
    }
   ],
   "source": [
    "# 上位整体概念\n",
    "wordnet.synset(\"computer.n.01\").part_holonyms()"
   ]
  },
  {
   "cell_type": "code",
   "execution_count": 2,
   "id": "108d5f17",
   "metadata": {},
   "outputs": [
    {
     "data": {
      "text/plain": [
       "[Synset('busbar.n.01'),\n",
       " Synset('cathode-ray_tube.n.01'),\n",
       " Synset('central_processing_unit.n.01'),\n",
       " Synset('chip.n.07'),\n",
       " Synset('computer_accessory.n.01'),\n",
       " Synset('computer_circuit.n.01'),\n",
       " Synset('data_converter.n.01'),\n",
       " Synset('disk_cache.n.01'),\n",
       " Synset('diskette.n.01'),\n",
       " Synset('hardware.n.03'),\n",
       " Synset('keyboard.n.01'),\n",
       " Synset('memory.n.04'),\n",
       " Synset('monitor.n.04'),\n",
       " Synset('peripheral.n.01')]"
      ]
     },
     "execution_count": 2,
     "metadata": {},
     "output_type": "execute_result"
    }
   ],
   "source": [
    "# 下位部件概念\n",
    "wordnet.synset(\"computer.n.01\").part_meronyms()"
   ]
  },
  {
   "cell_type": "code",
   "execution_count": 59,
   "id": "e256dd59",
   "metadata": {},
   "outputs": [
    {
     "data": {
      "text/plain": [
       "[Synset('computer_science.n.01')]"
      ]
     },
     "execution_count": 59,
     "metadata": {},
     "output_type": "execute_result"
    }
   ],
   "source": [
    "# 主题域\n",
    "wordnet.synset(\"computer.n.01\").topic_domains()"
   ]
  },
  {
   "cell_type": "code",
   "execution_count": 60,
   "id": "e7e19fe5",
   "metadata": {},
   "outputs": [
    {
     "data": {
      "text/plain": [
       "'noun.artifact'"
      ]
     },
     "execution_count": 60,
     "metadata": {},
     "output_type": "execute_result"
    }
   ],
   "source": [
    "# 词性分组关系\n",
    "wordnet.synset(\"computer.n.01\").lexname()"
   ]
  },
  {
   "cell_type": "code",
   "execution_count": 80,
   "id": "78f7faa4",
   "metadata": {},
   "outputs": [
    {
     "data": {
      "text/plain": [
       "'n'"
      ]
     },
     "execution_count": 80,
     "metadata": {},
     "output_type": "execute_result"
    }
   ],
   "source": [
    "wordnet.synset(\"computer.n.01\").pos()"
   ]
  },
  {
   "cell_type": "markdown",
   "id": "08ee5efb",
   "metadata": {},
   "source": [
    "#### 动词同义词集概念关系\n",
    "+ hypernym\n",
    "+ hyponym\n",
    "+ entailment"
   ]
  },
  {
   "cell_type": "code",
   "execution_count": 116,
   "id": "bda7a5d9",
   "metadata": {},
   "outputs": [
    {
     "data": {
      "text/plain": [
       "[Synset('bargain.n.02'),\n",
       " Synset('buy.v.01'),\n",
       " Synset('bribe.v.01'),\n",
       " Synset('buy.v.03'),\n",
       " Synset('buy.v.04'),\n",
       " Synset('buy.v.05')]"
      ]
     },
     "execution_count": 116,
     "metadata": {},
     "output_type": "execute_result"
    }
   ],
   "source": [
    "wordnet.synsets('buy')"
   ]
  },
  {
   "cell_type": "code",
   "execution_count": 26,
   "id": "9207de59",
   "metadata": {},
   "outputs": [
    {
     "data": {
      "text/plain": [
       "[Synset('get.v.01')]"
      ]
     },
     "execution_count": 26,
     "metadata": {},
     "output_type": "execute_result"
    }
   ],
   "source": [
    "wordnet.synset('buy.v.01').hypernyms()"
   ]
  },
  {
   "cell_type": "code",
   "execution_count": 27,
   "id": "c8c12f31",
   "metadata": {},
   "outputs": [
    {
     "data": {
      "text/plain": [
       "[Synset('buy_back.v.01'),\n",
       " Synset('get.v.22'),\n",
       " Synset('impulse-buy.v.01'),\n",
       " Synset('pick_up.v.08'),\n",
       " Synset('subscribe.v.05'),\n",
       " Synset('take.v.33'),\n",
       " Synset('take_out.v.07'),\n",
       " Synset('take_over.v.05')]"
      ]
     },
     "execution_count": 27,
     "metadata": {},
     "output_type": "execute_result"
    }
   ],
   "source": [
    "wordnet.synset('buy.v.01').hyponyms()"
   ]
  },
  {
   "cell_type": "code",
   "execution_count": 6,
   "id": "faeca416",
   "metadata": {},
   "outputs": [
    {
     "data": {
      "text/plain": [
       "'choose.v.01'"
      ]
     },
     "execution_count": 6,
     "metadata": {},
     "output_type": "execute_result"
    }
   ],
   "source": [
    "wordnet.synset('buy.v.01').entailments()[0].name()"
   ]
  },
  {
   "cell_type": "code",
   "execution_count": 68,
   "id": "b27af4d8",
   "metadata": {},
   "outputs": [
    {
     "data": {
      "text/plain": [
       "[Synset('commerce.n.01')]"
      ]
     },
     "execution_count": 68,
     "metadata": {},
     "output_type": "execute_result"
    }
   ],
   "source": [
    "wordnet.synset('buy.v.01').topic_domains()"
   ]
  },
  {
   "cell_type": "code",
   "execution_count": 77,
   "id": "a1e74253",
   "metadata": {},
   "outputs": [
    {
     "data": {
      "text/plain": [
       "'verb.possession'"
      ]
     },
     "execution_count": 77,
     "metadata": {},
     "output_type": "execute_result"
    }
   ],
   "source": [
    "wordnet.synset('buy.v.01').lexname()"
   ]
  },
  {
   "cell_type": "code",
   "execution_count": 79,
   "id": "7acaf74b",
   "metadata": {},
   "outputs": [
    {
     "data": {
      "text/plain": [
       "'v'"
      ]
     },
     "execution_count": 79,
     "metadata": {},
     "output_type": "execute_result"
    }
   ],
   "source": [
    "wordnet.synset('buy.v.01').pos()"
   ]
  },
  {
   "cell_type": "markdown",
   "id": "2d027943",
   "metadata": {},
   "source": [
    "#### 形容词同义词集概念关系\n",
    "+ antonym"
   ]
  },
  {
   "cell_type": "code",
   "execution_count": 15,
   "id": "a0c40226",
   "metadata": {},
   "outputs": [
    {
     "data": {
      "text/plain": [
       "[Synset('beautiful.a.01'), Synset('beautiful.s.02')]"
      ]
     },
     "execution_count": 15,
     "metadata": {},
     "output_type": "execute_result"
    }
   ],
   "source": [
    "wordnet.synsets('beautiful')"
   ]
  },
  {
   "cell_type": "code",
   "execution_count": 123,
   "id": "1fcda1bd",
   "metadata": {},
   "outputs": [
    {
     "data": {
      "text/plain": [
       "'beautiful.a.01'"
      ]
     },
     "execution_count": 123,
     "metadata": {},
     "output_type": "execute_result"
    }
   ],
   "source": [
    "wordnet.synset('beautiful.a.01').name()"
   ]
  },
  {
   "cell_type": "code",
   "execution_count": 17,
   "id": "a8137a61",
   "metadata": {},
   "outputs": [
    {
     "data": {
      "text/plain": [
       "'ugly.a.01'"
      ]
     },
     "execution_count": 17,
     "metadata": {},
     "output_type": "execute_result"
    }
   ],
   "source": [
    "wordnet.synset('beautiful.a.01').lemmas()[0].antonyms()[0].synset().name()"
   ]
  },
  {
   "cell_type": "code",
   "execution_count": 101,
   "id": "b51fd218",
   "metadata": {},
   "outputs": [
    {
     "data": {
      "text/plain": [
       "[]"
      ]
     },
     "execution_count": 101,
     "metadata": {},
     "output_type": "execute_result"
    }
   ],
   "source": [
    "wordnet.synset('beautiful.s.02').topic_domains()"
   ]
  },
  {
   "cell_type": "code",
   "execution_count": 75,
   "id": "38012cae",
   "metadata": {},
   "outputs": [
    {
     "data": {
      "text/plain": [
       "'adj.all'"
      ]
     },
     "execution_count": 75,
     "metadata": {},
     "output_type": "execute_result"
    }
   ],
   "source": [
    "wordnet.synset('beautiful.a.01').lexname()"
   ]
  },
  {
   "cell_type": "code",
   "execution_count": 83,
   "id": "39679c43",
   "metadata": {},
   "outputs": [
    {
     "data": {
      "text/plain": [
       "'a'"
      ]
     },
     "execution_count": 83,
     "metadata": {},
     "output_type": "execute_result"
    }
   ],
   "source": [
    "wordnet.synset('beautiful.a.01').pos()"
   ]
  },
  {
   "cell_type": "markdown",
   "id": "fd0812c8",
   "metadata": {},
   "source": [
    "#### 副词同义词集概念关系\n",
    "There are only few adverbs in WordNet (hardly, mostly, really, etc.) as the majority of English adverbs are straightforwardly derived from adjectives via morphological affixation (surprisingly, strangely, etc.)"
   ]
  },
  {
   "cell_type": "code",
   "execution_count": 103,
   "id": "7b12a906",
   "metadata": {},
   "outputs": [
    {
     "data": {
      "text/plain": [
       "[Synset('barely.r.01'), Synset('hardly.r.02')]"
      ]
     },
     "execution_count": 103,
     "metadata": {},
     "output_type": "execute_result"
    }
   ],
   "source": [
    "wordnet.synsets('hardly')"
   ]
  },
  {
   "cell_type": "code",
   "execution_count": 104,
   "id": "97cb5e21",
   "metadata": {},
   "outputs": [
    {
     "data": {
      "text/plain": [
       "[]"
      ]
     },
     "execution_count": 104,
     "metadata": {},
     "output_type": "execute_result"
    }
   ],
   "source": [
    "wordnet.synset('barely.r.01').topic_domains()"
   ]
  },
  {
   "cell_type": "code",
   "execution_count": 105,
   "id": "2ff03bea",
   "metadata": {},
   "outputs": [
    {
     "data": {
      "text/plain": [
       "'adv.all'"
      ]
     },
     "execution_count": 105,
     "metadata": {},
     "output_type": "execute_result"
    }
   ],
   "source": [
    "wordnet.synset('barely.r.01').lexname()"
   ]
  },
  {
   "cell_type": "code",
   "execution_count": 106,
   "id": "ecaa46a5",
   "metadata": {},
   "outputs": [
    {
     "data": {
      "text/plain": [
       "'r'"
      ]
     },
     "execution_count": 106,
     "metadata": {},
     "output_type": "execute_result"
    }
   ],
   "source": [
    "wordnet.synset('barely.r.01').pos()"
   ]
  },
  {
   "cell_type": "code",
   "execution_count": 121,
   "id": "a675cd4d",
   "metadata": {},
   "outputs": [
    {
     "data": {
      "text/plain": [
       "'buy.v.01'"
      ]
     },
     "execution_count": 121,
     "metadata": {},
     "output_type": "execute_result"
    }
   ],
   "source": [
    "wordnet.synset('buy.v.01').name()"
   ]
  },
  {
   "cell_type": "code",
   "execution_count": null,
   "id": "3801a605",
   "metadata": {},
   "outputs": [],
   "source": []
  }
 ],
 "metadata": {
  "kernelspec": {
   "display_name": "Python 3 (ipykernel)",
   "language": "python",
   "name": "python3"
  },
  "language_info": {
   "codemirror_mode": {
    "name": "ipython",
    "version": 3
   },
   "file_extension": ".py",
   "mimetype": "text/x-python",
   "name": "python",
   "nbconvert_exporter": "python",
   "pygments_lexer": "ipython3",
   "version": "3.9.7"
  }
 },
 "nbformat": 4,
 "nbformat_minor": 5
}
