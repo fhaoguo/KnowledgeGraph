{
 "cells": [
  {
   "cell_type": "markdown",
   "metadata": {},
   "source": [
    "<h1 style=\"text-align:center\">基于 BiLSTM-Attention 的实体消歧系统示例</h1>"
   ]
  },
  {
   "cell_type": "code",
   "execution_count": 1,
   "metadata": {},
   "outputs": [],
   "source": [
    "%load_ext autoreload\n",
    "%autoreload 2"
   ]
  },
  {
   "cell_type": "code",
   "execution_count": 2,
   "metadata": {},
   "outputs": [],
   "source": [
    "# 导入模块\n",
    "import sys\n",
    "import torch\n",
    "\n",
    "sys.path.append(\"./src\")\n",
    "common_path = '../data/entity_link'\n",
    "device = 'cuda:0' if torch.cuda.is_available() else 'cpu'\n",
    "\n",
    "import os\n",
    "import re\n",
    "import json\n",
    "import numpy as np\n",
    "import utils\n",
    "from data_process import *\n",
    "from model import Model"
   ]
  },
  {
   "cell_type": "code",
   "execution_count": 3,
   "metadata": {},
   "outputs": [
    {
     "name": "stderr",
     "output_type": "stream",
     "text": [
      "Building prefix dict from the default dictionary ...\n",
      "Loading model from cache /var/folders/19/dgxwsbgd76728hx577833nx00000gn/T/jieba.cache\n",
      "Loading model cost 0.623 seconds.\n",
      "Prefix dict has been built successfully.\n"
     ]
    },
    {
     "data": {
      "text/plain": [
       "<All keys matched successfully>"
      ]
     },
     "execution_count": 3,
     "metadata": {},
     "output_type": "execute_result"
    }
   ],
   "source": [
    "# vocab 包含 vocab[\"w2i\"]: word2idx、vocab[\"i2w\"]：\n",
    "matrix = np.load(os.path.join(common_path, 'pretrain_data/matrix.npy'))\n",
    "with open(os.path.join(common_path, 'pretrain_data/vocab.json'), 'r', encoding='utf8') as f:\n",
    "    jsonstr = ''.join(f.readlines())\n",
    "    vocab = json.loads(jsonstr)\n",
    "\n",
    "# 生成 mention 的候选实体集合\n",
    "if os.path.exists(os.path.join(common_path, 'generated/cand.json')):\n",
    "    with open(os.path.join(common_path, 'generated/cand.json'), 'r', encoding='utf8') as f:\n",
    "        jsonstr = ''.join(f.readlines())\n",
    "        cand_dic = json.loads(jsonstr)\n",
    "    with open(os.path.join(common_path, 'generated/entity.json'), 'r', encoding='utf8') as f:\n",
    "        jsonstr = ''.join(f.readlines())\n",
    "        ent_dic = json.loads(jsonstr)\n",
    "else:\n",
    "    cand_dic, ent_dic = GenerateCand('kb.json')\n",
    "\n",
    "# 实例化编码类\n",
    "data_encoder = DataEncoder(vocab[\"w2i\"],\n",
    "                           utils.type2label,\n",
    "                           user_word_dict=os.path.join(common_path,\"generated/mention.txt\"))\n",
    " \n",
    "# 实例化模型\n",
    "model = Model(matrix, utils.param)\n",
    "model.load_state_dict(\n",
    "    torch.load('../ckpt/entity_link/weights/ckpt_best_2.pth',\n",
    "               map_location=torch.device(device=device))['net'])"
   ]
  },
  {
   "cell_type": "code",
   "execution_count": 4,
   "metadata": {},
   "outputs": [],
   "source": [
    "predict_line = {\n",
    "    \"text_id\": \"3\",\n",
    "    \"text\": \"《绿皮书》托尼·利普和唐博士，配上这首歌，网友：这种情愫有点嗲\",\n",
    "    \"mention_data\": [\n",
    "        {\n",
    "            \"mention\": \"《绿皮书》\",\n",
    "            \"offset\": \"0\"\n",
    "        },\n",
    "        {\n",
    "            \"mention\": \"托尼·利普\",\n",
    "            \"offset\": \"5\"\n",
    "        },\n",
    "        {\n",
    "            \"mention\": \"唐博士\",\n",
    "            \"offset\": \"10\"\n",
    "        },\n",
    "        {\n",
    "            \"mention\": \"歌\",\n",
    "            \"offset\": \"18\"\n",
    "        },\n",
    "        {\n",
    "            \"mention\": \"情愫\",\n",
    "            \"offset\": \"25\"\n",
    "        }\n",
    "    ]\n",
    "}"
   ]
  },
  {
   "cell_type": "code",
   "execution_count": 5,
   "metadata": {},
   "outputs": [
    {
     "name": "stderr",
     "output_type": "stream",
     "text": [
      "Encode ../data/entity_link/generated/predict_data.txt: 28it [00:00, 1064.97it/s]\n"
     ]
    }
   ],
   "source": [
    "\n",
    "jsonstr = json.dumps(predict_line, ensure_ascii=False)\n",
    "with open(os.path.join(common_path, \"basic_data/predict.json\"), 'w', encoding='utf-8') as jsonfile:\n",
    "    jsonfile.write(jsonstr)\n",
    "\n",
    "# 生成预测的文本数据\n",
    "GeneratePairwaiseSample('predict.json', cand_dic, ent_dic, is_train=False)\n",
    "\n",
    "# 数据编码\n",
    "data_encoder.data_encode(os.path.join(common_path, \"generated/predict_data.txt\"), is_train=False)\n",
    "\n",
    "# 构建数据集加载接口\n",
    "predict_set = DataSet(os.path.join(common_path, \"generated/predict.csv\"), is_train=False)\n",
    "\n",
    "# dataloader\n",
    "test_loader = DATA.DataLoader(predict_set,  batch_size=8, collate_fn=utils.collate_fn_test)"
   ]
  },
  {
   "cell_type": "code",
   "execution_count": 6,
   "metadata": {},
   "outputs": [],
   "source": [
    "# 预测结果\n",
    "result = {}\n",
    "for i, test_data in enumerate(test_loader):\n",
    "    id_list, query, offset, cand_desc, seq_len = test_data\n",
    "    # forward\n",
    "    pre_label, pre_type = model.predict(query, offset, cand_desc, seq_len)\n",
    "    # 记录预测结果\n",
    "    result = utils.record(result, id_list, torch.softmax(pre_label, dim=-1), pre_type)"
   ]
  },
  {
   "cell_type": "code",
   "execution_count": 7,
   "metadata": {},
   "outputs": [
    {
     "name": "stdout",
     "output_type": "stream",
     "text": [
      "文本:\t 《绿皮书》托尼·利普和唐博士，配上这首歌，网友：这种情愫有点嗲 \n",
      "\n",
      "实体:\t 《绿皮书》\n",
      "类型:\t Other\n",
      "\n",
      "\n",
      "实体:\t 托尼·利普\n",
      "类型:\t Other\n",
      "描述:\t 出生地:美国宾夕法尼亚州比弗福尔斯;外文名:Tony Lip;摘要:托尼·利普（Tony Lip，原名Frank Anthony Vallelonga，1930年7月30日-2013年1月4日），是电影《绿皮书》中白人司机的原型。;逝世日期:2013年1月4日;别名:Frank Anthony Vallelonga;义项描述:托尼·利普;中文名:托尼·利普;国籍:美国;出生日期:1930年7月30日;\n",
      "\n",
      "\n",
      "实体:\t 唐博士\n",
      "类型:\t Other\n",
      "\n",
      "\n",
      "实体:\t 歌\n",
      "类型:\t Work\n",
      "描述:\t 摘要:《歌》是郭晓春演唱的歌曲。;谱曲:郭晓春;歌曲原唱:郭晓春;填词:郭晓春;发行公司:杭州回声文化艺术策划有限公司;中文名称:歌;义项描述:《歌》是郭晓春演唱的歌曲;\n",
      "\n",
      "\n",
      "实体:\t 情愫\n",
      "类型:\t Work\n",
      "描述:\t 摘要:《情愫》是歌手方季惟所演唱的一首歌曲，所属专辑：心痛不再有。;谱曲:蔡宣辉;歌曲原唱:方季惟;填词:蔡宣辉;编曲:丹尼;中文名称:情愫;义项描述:方季惟演唱歌曲;所属专辑:《心痛不再有》;标签:娱乐;\n",
      "\n",
      "\n"
     ]
    }
   ],
   "source": [
    "# 处理预测结果，生成打印信息\n",
    "data = [predict_line]\n",
    "\n",
    "for i, line in enumerate(data):\n",
    "    res_line = result[line['text_id']]\n",
    "    mention_data = line[\"mention_data\"]\n",
    "    for mid, item in enumerate(line[\"mention_data\"]):\n",
    "        item['pre_id'] = res_line[str(mid)]['pre_id']\n",
    "        pre_type_id = res_line[str(mid)]['pre_type'].argmax().item()\n",
    "        item['pre_type'] = utils.lable2type[pre_type_id]\n",
    "        if item['pre_id'] != 'NIL':\n",
    "            item[\"pre_desc\"] = ent_dic[item['pre_id']]['ent_desc']\n",
    "            item['pre_type'] = ent_dic[item['pre_id']]['type']\n",
    "        mention_data[mid] = item\n",
    "    data[i]['mention_data'] = mention_data\n",
    "# 打印结果\n",
    "for i in data:\n",
    "    print(\"文本:\\t\", i['text'], '\\n')\n",
    "    for j in i['mention_data']:\n",
    "        print(\"实体:\\t\", j['mention'])\n",
    "        print(\"类型:\\t\", j['pre_type'])\n",
    "        if j['pre_id'] != 'NIL':\n",
    "            print('描述:\\t', j['pre_desc'])\n",
    "        print('\\n')"
   ]
  },
  {
   "cell_type": "code",
   "execution_count": null,
   "metadata": {},
   "outputs": [],
   "source": []
  }
 ],
 "metadata": {
  "kernelspec": {
   "display_name": "Python 3 (ipykernel)",
   "language": "python",
   "name": "python3"
  },
  "language_info": {
   "codemirror_mode": {
    "name": "ipython",
    "version": 3
   },
   "file_extension": ".py",
   "mimetype": "text/x-python",
   "name": "python",
   "nbconvert_exporter": "python",
   "pygments_lexer": "ipython3",
   "version": "3.9.7"
  }
 },
 "nbformat": 4,
 "nbformat_minor": 4
}
