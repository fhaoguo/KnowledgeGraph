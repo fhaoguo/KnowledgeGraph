{
 "cells": [
  {
   "cell_type": "code",
   "execution_count": 1,
   "id": "5b8ec8e8",
   "metadata": {},
   "outputs": [],
   "source": [
    "from py2neo import Graph, Node, Relationship, NodeMatcher, RelationshipMatcher"
   ]
  },
  {
   "cell_type": "code",
   "execution_count": 2,
   "id": "edc585b7",
   "metadata": {},
   "outputs": [],
   "source": [
    "uri = 'bolt://localhost:7687'\n",
    "user = 'ongdb'\n",
    "password = '123456'\n",
    "graphdb = Graph(uri=uri, user=user, password=password)"
   ]
  },
  {
   "cell_type": "markdown",
   "id": "79c7be90",
   "metadata": {},
   "source": [
    "# 清空数据库"
   ]
  },
  {
   "cell_type": "code",
   "execution_count": 3,
   "id": "a104b6a5",
   "metadata": {},
   "outputs": [],
   "source": [
    "# 数据量不是小规模的话，不建议执行该操作\n",
    "# graphdb.run('MATCH (n) RETURN n').to_table()"
   ]
  },
  {
   "cell_type": "code",
   "execution_count": 4,
   "id": "91ca46f1",
   "metadata": {},
   "outputs": [
    {
     "data": {
      "text/html": [
       "(No data)"
      ],
      "text/plain": [
       "(No data)"
      ]
     },
     "execution_count": 4,
     "metadata": {},
     "output_type": "execute_result"
    }
   ],
   "source": [
    "# 删除关系\n",
    "graphdb.run('MATCH p = ()-[r]->() delete p')"
   ]
  },
  {
   "cell_type": "code",
   "execution_count": 5,
   "id": "d66b8eda",
   "metadata": {},
   "outputs": [
    {
     "data": {
      "text/html": [
       "(No data)"
      ],
      "text/plain": [
       "(No data)"
      ]
     },
     "execution_count": 5,
     "metadata": {},
     "output_type": "execute_result"
    }
   ],
   "source": [
    "# 删除节点\n",
    "graphdb.run('MATCH (n) delete n')"
   ]
  },
  {
   "cell_type": "markdown",
   "id": "dea0f25e",
   "metadata": {},
   "source": [
    "# 创建图数据库"
   ]
  },
  {
   "cell_type": "code",
   "execution_count": 6,
   "id": "4b8b21b7",
   "metadata": {},
   "outputs": [
    {
     "data": {
      "text/html": [
       "(No data)"
      ],
      "text/plain": [
       "(No data)"
      ]
     },
     "execution_count": 6,
     "metadata": {},
     "output_type": "execute_result"
    }
   ],
   "source": [
    "# commands = '''\n",
    "# CREATE\n",
    "#   (home:Page {name:'Home'}),\n",
    "#   (about:Page {name:'About'}),\n",
    "#   (product:Page {name:'Product'}),\n",
    "#   (links:Page {name:'Links'}),\n",
    "#   (a:Page {name:'Site A'}),\n",
    "#   (b:Page {name:'Site B'}),\n",
    "#   (c:Page {name:'Site C'}),\n",
    "#   (d:Page {name:'Site D'}),\n",
    "\n",
    "#   (home)-[:LINKS {weight: 0.2}]->(about),\n",
    "#   (home)-[:LINKS {weight: 0.2}]->(links),\n",
    "#   (home)-[:LINKS {weight: 0.6}]->(product),\n",
    "#   (about)-[:LINKS {weight: 1.0}]->(home),\n",
    "#   (product)-[:LINKS {weight: 1.0}]->(home),\n",
    "#   (a)-[:LINKS {weight: 1.0}]->(home),\n",
    "#   (b)-[:LINKS {weight: 1.0}]->(home),\n",
    "#   (c)-[:LINKS {weight: 1.0}]->(home),\n",
    "#   (d)-[:LINKS {weight: 1.0}]->(home),\n",
    "#   (links)-[:LINKS {weight: 0.8}]->(home),\n",
    "#   (links)-[:LINKS {weight: 0.05}]->(a),\n",
    "#   (links)-[:LINKS {weight: 0.05}]->(b),\n",
    "#   (links)-[:LINKS {weight: 0.05}]->(c),\n",
    "#   (links)-[:LINKS {weight: 0.05}]->(d);\n",
    "# '''\n",
    "\n",
    "# graphdb.run(commands)"
   ]
  },
  {
   "cell_type": "code",
   "execution_count": 7,
   "id": "15c21b26",
   "metadata": {},
   "outputs": [
    {
     "data": {
      "text/html": [
       "<table><tr><th>n</th></tr><tr><td style=\"text-align:left\">(_288485:Page {name: &#039;Home&#039;})</td></tr><tr><td style=\"text-align:left\">(_288486:Page {name: &#039;About&#039;})</td></tr><tr><td style=\"text-align:left\">(_288487:Page {name: &#039;Product&#039;})</td></tr><tr><td style=\"text-align:left\">(_288488:Page {name: &#039;Links&#039;})</td></tr><tr><td style=\"text-align:left\">(_288489:Page {name: &#039;Site A&#039;})</td></tr><tr><td style=\"text-align:left\">(_288490:Page {name: &#039;Site B&#039;})</td></tr><tr><td style=\"text-align:left\">(_288491:Page {name: &#039;Site C&#039;})</td></tr><tr><td style=\"text-align:left\">(_288492:Page {name: &#039;Site D&#039;})</td></tr></table>"
      ],
      "text/plain": [
       " n                                \n",
       "----------------------------------\n",
       " (_288485:Page {name: 'Home'})    \n",
       " (_288486:Page {name: 'About'})   \n",
       " (_288487:Page {name: 'Product'}) \n",
       " (_288488:Page {name: 'Links'})   \n",
       " (_288489:Page {name: 'Site A'})  \n",
       " (_288490:Page {name: 'Site B'})  \n",
       " (_288491:Page {name: 'Site C'})  \n",
       " (_288492:Page {name: 'Site D'})  "
      ]
     },
     "execution_count": 7,
     "metadata": {},
     "output_type": "execute_result"
    }
   ],
   "source": [
    "# graphdb.run('MATCH (n) RETURN n').to_table()"
   ]
  },
  {
   "cell_type": "code",
   "execution_count": null,
   "id": "8945c4b1",
   "metadata": {},
   "outputs": [],
   "source": [
    "commands = '''\n",
    "CREATE \n",
    "(:Person {name: 'Dr_Feng'}),\n",
    "(:Person {name: 'Zhang'}),\n",
    "(:Company {name: 'YanGuTec'}),\n",
    "(:ComputerScience {sub: 'AI'})\n",
    "\n",
    "MATCH (feng:Person {name: 'Dr_Feng'})\n",
    "MATCH (zhang:Person {name: 'Zhang'})\n",
    "CREATE (feng)-[rel:IS_FRIENDS_WITH]->(zhang)\n",
    "\n",
    "\n",
    "MATCH (feng:Person {name: 'Dr_Feng'})\n",
    "MATCH (cs:ComputerScience {sub: 'AI'})\n",
    "CREATE (feng)-[rel:MAJOR_IN]->(cs)\n",
    "\n",
    "MATCH (feng:Person {name: 'Dr_Feng'})\n",
    "MATCH (com:Company {name: 'YanGuTec'})\n",
    "CREATE (feng)-[rel:WORK_IN]->(com)\n",
    "'''\n"
   ]
  },
  {
   "cell_type": "code",
   "execution_count": null,
   "id": "c8b27ef7",
   "metadata": {},
   "outputs": [],
   "source": []
  },
  {
   "cell_type": "code",
   "execution_count": null,
   "id": "88a150e0",
   "metadata": {},
   "outputs": [],
   "source": []
  },
  {
   "cell_type": "code",
   "execution_count": null,
   "id": "42ee6293",
   "metadata": {},
   "outputs": [],
   "source": []
  },
  {
   "cell_type": "markdown",
   "id": "30096b93",
   "metadata": {},
   "source": [
    "# 查询应用"
   ]
  },
  {
   "cell_type": "code",
   "execution_count": 8,
   "id": "3ceb8068",
   "metadata": {},
   "outputs": [],
   "source": [
    "n_matcher = NodeMatcher(graphdb)\n",
    "r_matcher = RelationshipMatcher(graphdb)"
   ]
  },
  {
   "cell_type": "code",
   "execution_count": null,
   "id": "1517f3eb",
   "metadata": {},
   "outputs": [],
   "source": [
    "zhang = n_matcher.match('Person')"
   ]
  }
 ],
 "metadata": {
  "kernelspec": {
   "display_name": "Python 3 (ipykernel)",
   "language": "python",
   "name": "python3"
  },
  "language_info": {
   "codemirror_mode": {
    "name": "ipython",
    "version": 3
   },
   "file_extension": ".py",
   "mimetype": "text/x-python",
   "name": "python",
   "nbconvert_exporter": "python",
   "pygments_lexer": "ipython3",
   "version": "3.9.7"
  }
 },
 "nbformat": 4,
 "nbformat_minor": 5
}
