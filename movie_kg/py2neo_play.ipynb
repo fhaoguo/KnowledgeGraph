{
 "cells": [
  {
   "cell_type": "markdown",
   "id": "55fbaaed",
   "metadata": {},
   "source": [
    "# 导包 驱动 创建客户端"
   ]
  },
  {
   "cell_type": "code",
   "execution_count": 1,
   "id": "5b8ec8e8",
   "metadata": {},
   "outputs": [],
   "source": [
    "from py2neo import Graph, Node, Relationship, NodeMatcher, RelationshipMatcher"
   ]
  },
  {
   "cell_type": "code",
   "execution_count": 2,
   "id": "edc585b7",
   "metadata": {},
   "outputs": [],
   "source": [
    "uri = 'bolt://localhost:7687'\n",
    "user = 'ongdb'\n",
    "password = '123456'\n",
    "graphdb = Graph(uri=uri, user=user, password=password)"
   ]
  },
  {
   "cell_type": "markdown",
   "id": "79c7be90",
   "metadata": {},
   "source": [
    "# 清空数据库"
   ]
  },
  {
   "cell_type": "code",
   "execution_count": 3,
   "id": "a104b6a5",
   "metadata": {},
   "outputs": [],
   "source": [
    "# 数据量不是小规模的话，不建议执行该操作\n",
    "# graphdb.run('MATCH (n) RETURN n').to_table()"
   ]
  },
  {
   "cell_type": "code",
   "execution_count": 42,
   "id": "91ca46f1",
   "metadata": {},
   "outputs": [
    {
     "data": {
      "text/html": [
       "(No data)"
      ],
      "text/plain": [
       "(No data)"
      ]
     },
     "execution_count": 42,
     "metadata": {},
     "output_type": "execute_result"
    }
   ],
   "source": [
    "# 删除关系\n",
    "graphdb.run('MATCH p = ()-[r]->() delete p')"
   ]
  },
  {
   "cell_type": "code",
   "execution_count": 43,
   "id": "d66b8eda",
   "metadata": {},
   "outputs": [
    {
     "data": {
      "text/html": [
       "(No data)"
      ],
      "text/plain": [
       "(No data)"
      ]
     },
     "execution_count": 43,
     "metadata": {},
     "output_type": "execute_result"
    }
   ],
   "source": [
    "# 删除节点\n",
    "graphdb.run('MATCH (n) delete n')"
   ]
  },
  {
   "cell_type": "markdown",
   "id": "dea0f25e",
   "metadata": {},
   "source": [
    "# 创建图数据库"
   ]
  },
  {
   "cell_type": "code",
   "execution_count": 44,
   "id": "4b8b21b7",
   "metadata": {},
   "outputs": [],
   "source": [
    "# commands = '''\n",
    "# CREATE\n",
    "#   (home:Page {name:'Home'}),\n",
    "#   (about:Page {name:'About'}),\n",
    "#   (product:Page {name:'Product'}),\n",
    "#   (links:Page {name:'Links'}),\n",
    "#   (a:Page {name:'Site A'}),\n",
    "#   (b:Page {name:'Site B'}),\n",
    "#   (c:Page {name:'Site C'}),\n",
    "#   (d:Page {name:'Site D'}),\n",
    "\n",
    "#   (home)-[:LINKS {weight: 0.2}]->(about),\n",
    "#   (home)-[:LINKS {weight: 0.2}]->(links),\n",
    "#   (home)-[:LINKS {weight: 0.6}]->(product),\n",
    "#   (about)-[:LINKS {weight: 1.0}]->(home),\n",
    "#   (product)-[:LINKS {weight: 1.0}]->(home),\n",
    "#   (a)-[:LINKS {weight: 1.0}]->(home),\n",
    "#   (b)-[:LINKS {weight: 1.0}]->(home),\n",
    "#   (c)-[:LINKS {weight: 1.0}]->(home),\n",
    "#   (d)-[:LINKS {weight: 1.0}]->(home),\n",
    "#   (links)-[:LINKS {weight: 0.8}]->(home),\n",
    "#   (links)-[:LINKS {weight: 0.05}]->(a),\n",
    "#   (links)-[:LINKS {weight: 0.05}]->(b),\n",
    "#   (links)-[:LINKS {weight: 0.05}]->(c),\n",
    "#   (links)-[:LINKS {weight: 0.05}]->(d);\n",
    "# '''\n",
    "\n",
    "# graphdb.run(commands)"
   ]
  },
  {
   "cell_type": "code",
   "execution_count": 45,
   "id": "badb3d6d",
   "metadata": {},
   "outputs": [],
   "source": [
    "# graphdb.run('MATCH (n) RETURN n').to_table()"
   ]
  },
  {
   "cell_type": "code",
   "execution_count": 46,
   "id": "9e198ed2",
   "metadata": {},
   "outputs": [
    {
     "data": {
      "text/html": [
       "(No data)"
      ],
      "text/plain": [
       "(No data)"
      ]
     },
     "execution_count": 46,
     "metadata": {},
     "output_type": "execute_result"
    }
   ],
   "source": [
    "commands = '''\n",
    "CREATE \n",
    "(feng:Person {name: 'Dr_Feng'}),\n",
    "(zhang:Person {name: 'Zhang'}),\n",
    "(com:Company {name: 'YanGuTec'}),\n",
    "(cs:ComputerScience {sub: 'AI'}),\n",
    "\n",
    "(feng)-[:IS_FRIENDS_WITH]->(zhang),\n",
    "(feng)-[:MAJOR_IN]->(cs),\n",
    "(feng)-[:WORK_IN]->(com)\n",
    "'''\n",
    "graphdb.run(commands)"
   ]
  },
  {
   "cell_type": "code",
   "execution_count": 47,
   "id": "1df252fb",
   "metadata": {},
   "outputs": [
    {
     "data": {
      "text/html": [
       "<table><tr><th>n</th></tr><tr><td style=\"text-align:left\">(_288535:Person {name: &#039;Dr_Feng&#039;})</td></tr><tr><td style=\"text-align:left\">(_288536:Person {name: &#039;Zhang&#039;})</td></tr><tr><td style=\"text-align:left\">(_288537:Company {name: &#039;YanGuTec&#039;})</td></tr><tr><td style=\"text-align:left\">(_288538:ComputerScience {sub: &#039;AI&#039;})</td></tr></table>"
      ],
      "text/plain": [
       " n                                     \n",
       "---------------------------------------\n",
       " (_288535:Person {name: 'Dr_Feng'})    \n",
       " (_288536:Person {name: 'Zhang'})      \n",
       " (_288537:Company {name: 'YanGuTec'})  \n",
       " (_288538:ComputerScience {sub: 'AI'}) "
      ]
     },
     "execution_count": 47,
     "metadata": {},
     "output_type": "execute_result"
    }
   ],
   "source": [
    "graphdb.run('MATCH (n) RETURN n').to_table()"
   ]
  },
  {
   "cell_type": "markdown",
   "id": "f754838d",
   "metadata": {},
   "source": [
    "# 应用"
   ]
  },
  {
   "cell_type": "code",
   "execution_count": 49,
   "id": "1795e04d",
   "metadata": {},
   "outputs": [],
   "source": [
    "n_matcher = NodeMatcher(graphdb)\n",
    "r_matcher = RelationshipMatcher(graphdb)"
   ]
  },
  {
   "cell_type": "code",
   "execution_count": 50,
   "id": "bc9bea93",
   "metadata": {},
   "outputs": [
    {
     "data": {
      "text/plain": [
       "Node('Person', name='Zhang')"
      ]
     },
     "execution_count": 50,
     "metadata": {},
     "output_type": "execute_result"
    }
   ],
   "source": [
    "zhang = n_matcher.match('Person', name='Zhang').first()\n",
    "zhang"
   ]
  },
  {
   "cell_type": "code",
   "execution_count": 53,
   "id": "31db3ee6",
   "metadata": {},
   "outputs": [],
   "source": [
    "feng = n_matcher.match('Person', name='Dr_Feng')"
   ]
  },
  {
   "cell_type": "code",
   "execution_count": 55,
   "id": "9d0f73db",
   "metadata": {},
   "outputs": [
    {
     "data": {
      "text/plain": [
       "[Node('Person', name='Dr_Feng')]"
      ]
     },
     "execution_count": 55,
     "metadata": {},
     "output_type": "execute_result"
    }
   ],
   "source": [
    "feng.all()"
   ]
  },
  {
   "cell_type": "code",
   "execution_count": 57,
   "id": "85d50359",
   "metadata": {},
   "outputs": [],
   "source": [
    "feng = feng.first()"
   ]
  },
  {
   "cell_type": "code",
   "execution_count": 58,
   "id": "3092c3e6",
   "metadata": {},
   "outputs": [
    {
     "data": {
      "text/plain": [
       "IS_FRIENDS_WITH(Node('Person', name='Dr_Feng'), Node('Person', name='Zhang'))"
      ]
     },
     "execution_count": 58,
     "metadata": {},
     "output_type": "execute_result"
    }
   ],
   "source": [
    "friend = r_matcher.match([feng, zhang], r_type='IS_FRIENDS_WITH').first()\n",
    "friend"
   ]
  },
  {
   "cell_type": "code",
   "execution_count": 60,
   "id": "dce803a8",
   "metadata": {},
   "outputs": [
    {
     "data": {
      "text/plain": [
       "Node('Person', name='Dr_Feng')"
      ]
     },
     "execution_count": 60,
     "metadata": {},
     "output_type": "execute_result"
    }
   ],
   "source": [
    "friend.start_node"
   ]
  },
  {
   "cell_type": "code",
   "execution_count": 61,
   "id": "288764f5",
   "metadata": {},
   "outputs": [
    {
     "data": {
      "text/plain": [
       "Node('Person', name='Zhang')"
      ]
     },
     "execution_count": 61,
     "metadata": {},
     "output_type": "execute_result"
    }
   ],
   "source": [
    "friend.end_node"
   ]
  },
  {
   "cell_type": "code",
   "execution_count": null,
   "id": "dd7ce415",
   "metadata": {},
   "outputs": [],
   "source": []
  }
 ],
 "metadata": {
  "kernelspec": {
   "display_name": "Python 3 (ipykernel)",
   "language": "python",
   "name": "python3"
  },
  "language_info": {
   "codemirror_mode": {
    "name": "ipython",
    "version": 3
   },
   "file_extension": ".py",
   "mimetype": "text/x-python",
   "name": "python",
   "nbconvert_exporter": "python",
   "pygments_lexer": "ipython3",
   "version": "3.9.7"
  }
 },
 "nbformat": 4,
 "nbformat_minor": 5
}
