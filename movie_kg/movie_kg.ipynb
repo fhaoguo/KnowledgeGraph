{
 "cells": [
  {
   "cell_type": "markdown",
   "id": "852b8e80",
   "metadata": {},
   "source": [
    "# 豆瓣电影图谱\n",
    "1. 从豆瓣爬取电影与书籍信息\n",
    "2. 将爬取到的json数据转化为MySQL并存储\n",
    "3. 将 Mysql 数据转化为 CSV 数据\n",
    "4. 将 CSV 数据导入 Neo4j"
   ]
  },
  {
   "cell_type": "code",
   "execution_count": 1,
   "id": "5a4194e9",
   "metadata": {},
   "outputs": [],
   "source": [
    "from pathlib import Path\n",
    "import pymysql\n",
    "import json\n",
    "import pandas as pd"
   ]
  },
  {
   "cell_type": "markdown",
   "id": "d5bdae9a",
   "metadata": {},
   "source": [
    "## 爬取豆瓣电影与书籍详细信息\n",
    "\n",
    "爬虫参考 github link\n",
    "+ [https://github.com/weizhixiaoyi/DouBan-Spider](https://github.com/weizhixiaoyi/DouBan-Spider)\n",
    "+ [https://github.com/Jack-Cherish/python-spider](https://github.com/Jack-Cherish/python-spider)\n",
    "+ [https://github.com/facert/awesome-spider](https://github.com/facert/awesome-spider)\n",
    "+ [https://github.com/binux/pyspider](https://github.com/binux/pyspider)\n",
    "+ [https://github.com/wistbean/learn_python3_spider](https://github.com/wistbean/learn_python3_spider)"
   ]
  },
  {
   "cell_type": "code",
   "execution_count": 2,
   "id": "81ebe4ed",
   "metadata": {},
   "outputs": [
    {
     "name": "stdout",
     "output_type": "stream",
     "text": [
      "path_name:../data/movie_kg/txt/small_movie_person_info.txt \n",
      "name:\tsmall_movie_person_info.txt\n",
      "\n",
      "path_name:../data/movie_kg/txt/.ipynb_checkpoints \n",
      "name:\t.ipynb_checkpoints\n",
      "\n",
      "path_name:../data/movie_kg/txt/small_movie_info.txt \n",
      "name:\tsmall_movie_info.txt\n",
      "\n"
     ]
    }
   ],
   "source": [
    "root_dir = Path('../data/movie_kg/txt')\n",
    "for file in root_dir.glob('*'):\n",
    "    print(f'path_name:{file} \\nname:\\t{file.name}\\n')"
   ]
  },
  {
   "cell_type": "markdown",
   "id": "26838616",
   "metadata": {},
   "source": [
    "## Explore Data Analysis"
   ]
  },
  {
   "cell_type": "code",
   "execution_count": 3,
   "id": "7f53eb9b",
   "metadata": {},
   "outputs": [
    {
     "name": "stdout",
     "output_type": "stream",
     "text": [
      "{\"id\": \"26425063\", \"image_url\": \"https://img3.doubanio.com/view/photo/s_ratio_poster/public/p2535260806.webp\", \"name\": \"无双 無雙\", \"directors\": [{\"name\": \"庄文强\", \"id\": \"1014716\"}], \"writers\": [{\"name\": \"庄文强\", \"id\": \"1014716\"}], \"actors\": [{\"name\": \"周润发\", \"id\": \"1044899\"}, {\"name\": \"郭富城\", \"id\": \"1041390\"}, {\"name\": \"张静初\", \"id\": \"1016668\"}, {\"name\": \"冯文娟\", \"id\": \"1325753\"}, {\"name\": \"廖启智\", \"id\": \"1274268\"}, {\"name\": \"周家怡\", \"id\": \"1321491\"}, {\"name\": \"王耀庆\", \"id\": \"1316330\"}, {\"name\": \"方中信\", \"id\": \"1033102\"}, {\"name\": \"高捷\", \"id\": \"1276076\"}, {\"name\": \"邢佳栋\", \"id\": \"1274762\"}, {\"name\": \"张松枝\", \"id\": \"1339097\"}, {\"name\": \"张建声\", \"id\": \"1323927\"}, {\"name\": \"吴嘉龙\", \"id\": \"1214684\"}, {\"name\": \"孙佳君\", \"id\": \"1050664\"}], \"genres\": [\"剧情\", \"动作\", \"犯罪\"], \"countries\": [\"中国大陆\", \"香港\"], \"languages\": [\"汉语普通话\", \"粤语\", \"英语\", \"泰语\", \"波兰语\"], \"pubdates\": [\"2018-09-30(中国大陆)\", \"2018-10-04(香港)\"], \"episodes\": \"1\", \"durations\": [\"130分钟\"], \"other_names\": [\"ProjectGutenberg\", \"Moseung\"], \"summary\": \"身陷囹圄的李问（郭富城饰）被引渡回港，他原本隶属于一个的跨国假钞制贩组织。该组织曾犯下过多宗恶性案件，而首脑“画家”不仅始终逍遥法外，连真面目都没人知道。为了逼迫李问吐露“画家”真实身份，警方不惜用足以判死刑的假罪证使其就范。就在此时，富有的遗孀阮文（张静初饰）申请保释李问，而警方提出的条件依然是“画家”的真面目。原来早在十数年前，李问和阮文是一对画家情侣，无奈女友的作品受人青睐，李问的画作却被贬得一文不值。就在此困顿期间，他制作假画的才能被“画家”（周润发饰）发掘，进而成为对方美元假币团伙中的一员……\", \"rating\": {\"average\": \"8.0\", \"reviews_count\": \"516236\"}}\n",
      "\n",
      "{\"id\": \"26425063\", \"image_url\": \"https://img3.doubanio.com/view/photo/s_ratio_poster/public/p2535260806.webp\", \"name\": \"无双 無雙\", \"directors\": [{\"name\": \"庄文强\", \"id\": \"1014716\"}], \"writers\": [{\"name\": \"庄文强\", \"id\": \"1014716\"}], \"actors\": [{\"name\": \"周润发\", \"id\": \"1044899\"}, {\"name\": \"郭富城\", \"id\": \"1041390\"}, {\"name\": \"张静初\", \"id\": \"1016668\"}, {\"name\": \"冯文娟\", \"id\": \"1325753\"}, {\"name\": \"廖启智\", \"id\": \"1274268\"}, {\"name\": \"周家怡\", \"id\": \"1321491\"}, {\"name\": \"王耀庆\", \"id\": \"1316330\"}, {\"name\": \"方中信\", \"id\": \"1033102\"}, {\"name\": \"高捷\", \"id\": \"1276076\"}, {\"name\": \"邢佳栋\", \"id\": \"1274762\"}, {\"name\": \"张松枝\", \"id\": \"1339097\"}, {\"name\": \"张建声\", \"id\": \"1323927\"}, {\"name\": \"吴嘉龙\", \"id\": \"1214684\"}, {\"name\": \"孙佳君\", \"id\": \"1050664\"}], \"genres\": [\"剧情\", \"动作\", \"犯罪\"], \"countries\": [\"中国大陆\", \"香港\"], \"languages\": [\"汉语普通话\", \"粤语\", \"英语\", \"泰语\", \"波兰语\"], \"pubdates\": [\"2018-09-30(中国大陆)\", \"2018-10-04(香港)\"], \"episodes\": \"1\", \"durations\": [\"130分钟\"], \"other_names\": [\"ProjectGutenberg\", \"Moseung\"], \"summary\": \"身陷囹圄的李问（郭富城饰）被引渡回港，他原本隶属于一个的跨国假钞制贩组织。该组织曾犯下过多宗恶性案件，而首脑“画家”不仅始终逍遥法外，连真面目都没人知道。为了逼迫李问吐露“画家”真实身份，警方不惜用足以判死刑的假罪证使其就范。就在此时，富有的遗孀阮文（张静初饰）申请保释李问，而警方提出的条件依然是“画家”的真面目。原来早在十数年前，李问和阮文是一对画家情侣，无奈女友的作品受人青睐，李问的画作却被贬得一文不值。就在此困顿期间，他制作假画的才能被“画家”（周润发饰）发掘，进而成为对方美元假币团伙中的一员……\", \"rating\": {\"average\": \"8.0\", \"reviews_count\": \"516236\"}}\n",
      "\n",
      "{\"id\": \"26425063\", \"image_url\": \"https://img3.doubanio.com/view/photo/s_ratio_poster/public/p2535260806.webp\", \"name\": \"无双 無雙\", \"directors\": [{\"name\": \"庄文强\", \"id\": \"1014716\"}], \"writers\": [{\"name\": \"庄文强\", \"id\": \"1014716\"}], \"actors\": [{\"name\": \"周润发\", \"id\": \"1044899\"}, {\"name\": \"郭富城\", \"id\": \"1041390\"}, {\"name\": \"张静初\", \"id\": \"1016668\"}, {\"name\": \"冯文娟\", \"id\": \"1325753\"}, {\"name\": \"廖启智\", \"id\": \"1274268\"}, {\"name\": \"周家怡\", \"id\": \"1321491\"}, {\"name\": \"王耀庆\", \"id\": \"1316330\"}, {\"name\": \"方中信\", \"id\": \"1033102\"}, {\"name\": \"高捷\", \"id\": \"1276076\"}, {\"name\": \"邢佳栋\", \"id\": \"1274762\"}, {\"name\": \"张松枝\", \"id\": \"1339097\"}, {\"name\": \"张建声\", \"id\": \"1323927\"}, {\"name\": \"吴嘉龙\", \"id\": \"1214684\"}, {\"name\": \"孙佳君\", \"id\": \"1050664\"}], \"genres\": [\"剧情\", \"动作\", \"犯罪\"], \"countries\": [\"中国大陆\", \"香港\"], \"languages\": [\"汉语普通话\", \"粤语\", \"英语\", \"泰语\", \"波兰语\"], \"pubdates\": [\"2018-09-30(中国大陆)\", \"2018-10-04(香港)\"], \"episodes\": \"1\", \"durations\": [\"130分钟\"], \"other_names\": [\"ProjectGutenberg\", \"Moseung\"], \"summary\": \"身陷囹圄的李问（郭富城饰）被引渡回港，他原本隶属于一个的跨国假钞制贩组织。该组织曾犯下过多宗恶性案件，而首脑“画家”不仅始终逍遥法外，连真面目都没人知道。为了逼迫李问吐露“画家”真实身份，警方不惜用足以判死刑的假罪证使其就范。就在此时，富有的遗孀阮文（张静初饰）申请保释李问，而警方提出的条件依然是“画家”的真面目。原来早在十数年前，李问和阮文是一对画家情侣，无奈女友的作品受人青睐，李问的画作却被贬得一文不值。就在此困顿期间，他制作假画的才能被“画家”（周润发饰）发掘，进而成为对方美元假币团伙中的一员……\", \"rating\": {\"average\": \"8.0\", \"reviews_count\": \"516236\"}}\n",
      "\n",
      "{\"id\": \"26425063\", \"image_url\": \"https://img3.doubanio.com/view/photo/s_ratio_poster/public/p2535260806.webp\", \"name\": \"无双 無雙\", \"directors\": [{\"name\": \"庄文强\", \"id\": \"1014716\"}], \"writers\": [{\"name\": \"庄文强\", \"id\": \"1014716\"}], \"actors\": [{\"name\": \"周润发\", \"id\": \"1044899\"}, {\"name\": \"郭富城\", \"id\": \"1041390\"}, {\"name\": \"张静初\", \"id\": \"1016668\"}, {\"name\": \"冯文娟\", \"id\": \"1325753\"}, {\"name\": \"廖启智\", \"id\": \"1274268\"}, {\"name\": \"周家怡\", \"id\": \"1321491\"}, {\"name\": \"王耀庆\", \"id\": \"1316330\"}, {\"name\": \"方中信\", \"id\": \"1033102\"}, {\"name\": \"高捷\", \"id\": \"1276076\"}, {\"name\": \"邢佳栋\", \"id\": \"1274762\"}, {\"name\": \"张松枝\", \"id\": \"1339097\"}, {\"name\": \"张建声\", \"id\": \"1323927\"}, {\"name\": \"吴嘉龙\", \"id\": \"1214684\"}, {\"name\": \"孙佳君\", \"id\": \"1050664\"}], \"genres\": [\"剧情\", \"动作\", \"犯罪\"], \"countries\": [\"中国大陆\", \"香港\"], \"languages\": [\"汉语普通话\", \"粤语\", \"英语\", \"泰语\", \"波兰语\"], \"pubdates\": [\"2018-09-30(中国大陆)\", \"2018-10-04(香港)\"], \"episodes\": \"1\", \"durations\": [\"130分钟\"], \"other_names\": [\"ProjectGutenberg\", \"Moseung\"], \"summary\": \"身陷囹圄的李问（郭富城饰）被引渡回港，他原本隶属于一个的跨国假钞制贩组织。该组织曾犯下过多宗恶性案件，而首脑“画家”不仅始终逍遥法外，连真面目都没人知道。为了逼迫李问吐露“画家”真实身份，警方不惜用足以判死刑的假罪证使其就范。就在此时，富有的遗孀阮文（张静初饰）申请保释李问，而警方提出的条件依然是“画家”的真面目。原来早在十数年前，李问和阮文是一对画家情侣，无奈女友的作品受人青睐，李问的画作却被贬得一文不值。就在此困顿期间，他制作假画的才能被“画家”（周润发饰）发掘，进而成为对方美元假币团伙中的一员……\", \"rating\": {\"average\": \"8.0\", \"reviews_count\": \"516236\"}}\n",
      "\n",
      "{\"id\": \"26425063\", \"image_url\": \"https://img3.doubanio.com/view/photo/s_ratio_poster/public/p2535260806.webp\", \"name\": \"无双 無雙\", \"directors\": [{\"name\": \"庄文强\", \"id\": \"1014716\"}], \"writers\": [{\"name\": \"庄文强\", \"id\": \"1014716\"}], \"actors\": [{\"name\": \"周润发\", \"id\": \"1044899\"}, {\"name\": \"郭富城\", \"id\": \"1041390\"}, {\"name\": \"张静初\", \"id\": \"1016668\"}, {\"name\": \"冯文娟\", \"id\": \"1325753\"}, {\"name\": \"廖启智\", \"id\": \"1274268\"}, {\"name\": \"周家怡\", \"id\": \"1321491\"}, {\"name\": \"王耀庆\", \"id\": \"1316330\"}, {\"name\": \"方中信\", \"id\": \"1033102\"}, {\"name\": \"高捷\", \"id\": \"1276076\"}, {\"name\": \"邢佳栋\", \"id\": \"1274762\"}, {\"name\": \"张松枝\", \"id\": \"1339097\"}, {\"name\": \"张建声\", \"id\": \"1323927\"}, {\"name\": \"吴嘉龙\", \"id\": \"1214684\"}, {\"name\": \"孙佳君\", \"id\": \"1050664\"}], \"genres\": [\"剧情\", \"动作\", \"犯罪\"], \"countries\": [\"中国大陆\", \"香港\"], \"languages\": [\"汉语普通话\", \"粤语\", \"英语\", \"泰语\", \"波兰语\"], \"pubdates\": [\"2018-09-30(中国大陆)\", \"2018-10-04(香港)\"], \"episodes\": \"1\", \"durations\": [\"130分钟\"], \"other_names\": [\"ProjectGutenberg\", \"Moseung\"], \"summary\": \"身陷囹圄的李问（郭富城饰）被引渡回港，他原本隶属于一个的跨国假钞制贩组织。该组织曾犯下过多宗恶性案件，而首脑“画家”不仅始终逍遥法外，连真面目都没人知道。为了逼迫李问吐露“画家”真实身份，警方不惜用足以判死刑的假罪证使其就范。就在此时，富有的遗孀阮文（张静初饰）申请保释李问，而警方提出的条件依然是“画家”的真面目。原来早在十数年前，李问和阮文是一对画家情侣，无奈女友的作品受人青睐，李问的画作却被贬得一文不值。就在此困顿期间，他制作假画的才能被“画家”（周润发饰）发掘，进而成为对方美元假币团伙中的一员……\", \"rating\": {\"average\": \"8.0\", \"reviews_count\": \"516236\"}}\n",
      "\n"
     ]
    }
   ],
   "source": [
    "count = 0\n",
    "while True:\n",
    "    with open(root_dir / \"small_movie_info.txt\", \"r\") as f:\n",
    "        line = f.readline()\n",
    "        print(line)\n",
    "        if count > 3:\n",
    "            break\n",
    "        count += 1"
   ]
  },
  {
   "cell_type": "markdown",
   "id": "c600b901",
   "metadata": {},
   "source": [
    "- 电影信息(**small_movie_info.txt**)包括电影id、图片链接、名称、导演名称、编剧名称、主演名称、类型、制片国家、语言、上映日期、片长、季数、集数、其他名称、剧情简介、评分、评分人数，共67245条数据信息。虽说是电影信息，但其中也包括电视剧、综艺、动漫、纪录片、短片。\n",
    "\n",
    "- 电影演员(**small_movie_person_info.txt**)信息包括演员id、姓名、图片链接、性别、星座、出生日期、出生地、职业、更多中文名、更多外文名、-家庭成员、简介，共89592条数据信息。这里所指的演员包括电影演员、编剧、导演。"
   ]
  },
  {
   "cell_type": "markdown",
   "id": "56686076",
   "metadata": {},
   "source": [
    "## 提取电影类别, 并存入到mysql之中\n",
    "transfrom json to sql\n",
    "\n",
    "创建 database \n",
    "\n",
    "```sh\n",
    "mysql -u root -p\n",
    "\n",
    "CREATE DATABASE douban_kg;\n",
    "```"
   ]
  },
  {
   "cell_type": "code",
   "execution_count": 4,
   "id": "56bf8847",
   "metadata": {},
   "outputs": [],
   "source": [
    "# 连接mysql数据库\n",
    "\n",
    "kg_conn = pymysql.connect(\n",
    "    host='localhost',\n",
    "    port=3306,\n",
    "    user='root',\n",
    "    password='fengdage',\n",
    "    db='movie_kg',\n",
    "    cursorclass=pymysql.cursors.DictCursor\n",
    ")"
   ]
  },
  {
   "cell_type": "code",
   "execution_count": 5,
   "id": "e64ff90d",
   "metadata": {},
   "outputs": [],
   "source": [
    "# 读取文件\n",
    "movie_file_path = '../data/movie_kg/txt/small_movie_info.txt'\n",
    "movie_str_list = open(movie_file_path, 'r').readlines()\n",
    "movie_json_list = [json.loads(movie) for movie in movie_str_list]"
   ]
  },
  {
   "cell_type": "code",
   "execution_count": 6,
   "id": "142a352d",
   "metadata": {},
   "outputs": [
    {
     "name": "stdout",
     "output_type": "stream",
     "text": [
      "['家庭', '爱情', '音乐', '灾难', '悬疑', '喜剧', '科幻', '短片', '奇幻', '古装', '歌舞', '惊悚', '剧情', '传记', '西部', '儿童', '历史', '同性', '情色', '运动', '武侠', '犯罪', '动画', '战争', '动作', '冒险', '恐怖', '纪录片']\n"
     ]
    }
   ],
   "source": [
    "# 电影类型\n",
    "movie_genres = set()\n",
    "for movie in movie_json_list:\n",
    "    for genre in movie['genres']:\n",
    "        movie_genres.add(genre)\n",
    "movie_genres = list(movie_genres)\n",
    "movie_genres.sort(key=lambda i: len(i))\n",
    "print(movie_genres)"
   ]
  },
  {
   "cell_type": "markdown",
   "id": "d3df283b",
   "metadata": {},
   "source": [
    "## 存储信息到表`movie_genere`之中"
   ]
  },
  {
   "cell_type": "markdown",
   "id": "e2046663",
   "metadata": {},
   "source": [
    "#### 创建表"
   ]
  },
  {
   "cell_type": "code",
   "execution_count": 7,
   "id": "9f4a8b69",
   "metadata": {
    "scrolled": true
   },
   "outputs": [],
   "source": [
    "# sql = \"DROP TABLE  movie_genre;\"\n",
    "# with kg_conn.cursor() as cursor:\n",
    "#     cursor.execute(sql)\n",
    "#     kg_conn.commit()\n",
    "\n",
    "sql = '''\n",
    "create table movie_genre\n",
    "(\n",
    "  movie_genre_id   int         not null\n",
    "    primary key,\n",
    "  movie_genre_name varchar(20) not null\n",
    ");\n",
    "'''\n",
    "with kg_conn.cursor() as cursor:\n",
    "    cursor.execute(sql)\n",
    "    kg_conn.commit()"
   ]
  },
  {
   "cell_type": "markdown",
   "id": "b5ae3bf7",
   "metadata": {},
   "source": [
    "#### 数据插入"
   ]
  },
  {
   "cell_type": "code",
   "execution_count": 8,
   "id": "81bd0847",
   "metadata": {},
   "outputs": [],
   "source": [
    "try:\n",
    "    genre_id = 1\n",
    "    with kg_conn.cursor() as cursor:\n",
    "        # Insert Data\n",
    "        for genre in movie_genres:\n",
    "            sql = \"INSERT INTO `movie_genre` (`movie_genre_id`, `movie_genre_name`) VALUES (%s, %s)\"\n",
    "            cursor.execute(sql, (genre_id, genre))\n",
    "            genre_id += 1\n",
    "        kg_conn.commit()\n",
    "except Exception as err:\n",
    "    print('movie_genres数据插入错误' + str(err))"
   ]
  },
  {
   "cell_type": "markdown",
   "id": "43cbe5c9",
   "metadata": {},
   "source": [
    "#### 测试插入结果"
   ]
  },
  {
   "cell_type": "code",
   "execution_count": 9,
   "id": "6348c0c4",
   "metadata": {},
   "outputs": [
    {
     "data": {
      "text/plain": [
       "[{'movie_genre_id': 1, 'movie_genre_name': '家庭'},\n",
       " {'movie_genre_id': 2, 'movie_genre_name': '爱情'},\n",
       " {'movie_genre_id': 3, 'movie_genre_name': '音乐'},\n",
       " {'movie_genre_id': 4, 'movie_genre_name': '灾难'},\n",
       " {'movie_genre_id': 5, 'movie_genre_name': '悬疑'}]"
      ]
     },
     "execution_count": 9,
     "metadata": {},
     "output_type": "execute_result"
    }
   ],
   "source": [
    "sql = 'SELECT * FROM movie_genre LIMIT 5;'\n",
    "with kg_conn.cursor() as cursor:\n",
    "    cursor.execute(sql)\n",
    "    result = cursor.fetchall()\n",
    "result"
   ]
  },
  {
   "cell_type": "markdown",
   "id": "678e5143",
   "metadata": {},
   "source": [
    "## 存储信息到表`movie_info`之中"
   ]
  },
  {
   "cell_type": "code",
   "execution_count": 10,
   "id": "c0240ce6",
   "metadata": {},
   "outputs": [],
   "source": [
    "# 删除表\n",
    "# sql = \"DROP TABLE  movie_info;\"\n",
    "# with kg_conn.cursor() as cursor:\n",
    "#     cursor.execute(sql)\n",
    "#     kg_conn.commit()\n",
    "\n",
    "# 创建表\n",
    "sql = '''\n",
    "create table movie_info\n",
    "(\n",
    "  movie_info_id           int          not null\n",
    "    primary key,\n",
    "  movie_info_name         text         null,\n",
    "  movie_info_image_url    varchar(200) null,\n",
    "  movie_info_country      varchar(200) null,\n",
    "  movie_info_language     varchar(200) null,\n",
    "  movie_info_pubdate      varchar(200) null,\n",
    "  movie_info_duration     varchar(200) null,\n",
    "  movie_info_other_name   text         null,\n",
    "  movie_info_summary      mediumtext   null,\n",
    "  movie_info_rating       varchar(10)  null,\n",
    "  movie_info_review_count varchar(200) null\n",
    ");\n",
    "'''\n",
    "with kg_conn.cursor() as cursor:\n",
    "    cursor.execute(sql)\n",
    "    kg_conn.commit()"
   ]
  },
  {
   "cell_type": "code",
   "execution_count": 11,
   "id": "88a21810",
   "metadata": {},
   "outputs": [],
   "source": [
    "# 存储信息到mysql数据库之中\n",
    "try:\n",
    "    with kg_conn.cursor() as cursor:\n",
    "        for movie in movie_json_list:\n",
    "            movie_info_id = movie['id']\n",
    "            movie_info_image_url = movie['image_url']\n",
    "            movie_info_name = movie['name']\n",
    "            movie_info_country = ','.join(movie['countries'])\n",
    "            movie_info_language = ','.join(movie['languages'])\n",
    "            movie_info_pubdate = ','.join(movie['pubdates'])\n",
    "            movie_info_duration = ','.join(movie['durations'])\n",
    "            movie_info_other_name = ','.join(movie['other_names'])\n",
    "            movie_info_summary = movie['summary']\n",
    "            movie_info_rating = movie['rating']['average']\n",
    "            movie_info_review_count = movie['rating']['reviews_count']\n",
    "\n",
    "            sql = \"INSERT INTO `movie_info` (`movie_info_id`, `movie_info_image_url`, `movie_info_name`, `movie_info_country`,\" \\\n",
    "                    \"`movie_info_language`, `movie_info_pubdate`, `movie_info_duration`, `movie_info_other_name`,\" \\\n",
    "                    \"`movie_info_summary`, `movie_info_rating`, `movie_info_review_count`) VALUES (%s, %s, %s, %s, %s, %s, %s, %s, %s, %s, %s)\"\n",
    "\n",
    "            cursor.execute(sql, (\n",
    "                movie_info_id, movie_info_image_url, movie_info_name, movie_info_country, movie_info_language,\n",
    "                movie_info_pubdate, movie_info_duration, movie_info_other_name,\n",
    "                movie_info_summary,\n",
    "                movie_info_rating, movie_info_review_count))\n",
    "        kg_conn.commit()\n",
    "except Exception as err:\n",
    "    print('movie_info插入数据错误' + str(err))"
   ]
  },
  {
   "cell_type": "code",
   "execution_count": 12,
   "id": "8ccaa504",
   "metadata": {},
   "outputs": [
    {
     "data": {
      "text/plain": [
       "{'movie_info_id': 1291544,\n",
       " 'movie_info_name': '哈利·波特与阿兹卡班的囚徒 Harry Potter and the Prisoner of Azkaban',\n",
       " 'movie_info_image_url': 'https://img1.doubanio.com/view/photo/s_ratio_poster/public/p1910812549.webp',\n",
       " 'movie_info_country': '英国,美国',\n",
       " 'movie_info_language': '英语',\n",
       " 'movie_info_pubdate': '2004-09-10(中国大陆),2004-05-31(英国)',\n",
       " 'movie_info_duration': '141分钟',\n",
       " 'movie_info_other_name': '哈利波特3：阿兹卡班的逃犯(港,台),哈利·波特与阿兹卡班的逃犯,哈3',\n",
       " 'movie_info_summary': '哈利（丹尼尔·雷德克里夫）即将在霍格沃兹渡过第三个年头，此时在阿兹塔班却传出恶棍小天狼星（加里·奥德曼）越狱的消息。据说小天狼星正是背叛哈利父母的好友，他的教父，而这次小天狼星越狱似乎正是为了找他。哈利的心里悄悄的滋生了为父母报仇的想法，期待着小天狼星的出现。新来的魔法老师卢平（大卫·休里斯）有着桀骜不驯的个性，与哈利关系很好，教了哈利许多实用的黑魔法防御知识。而此时在他的魔法地图上却出现了一个神秘人物，虫尾巴。偶然的机会下，在尖叫棚屋里集齐了哈利父亲当年的所有好友，卢平、虫尾巴、小天狼星，哈利的魔杖直指向小天狼星，但他发现那罪犯看他的眼神里充满了疼爱……',\n",
       " 'movie_info_rating': '8.4',\n",
       " 'movie_info_review_count': '233801'}"
      ]
     },
     "execution_count": 12,
     "metadata": {},
     "output_type": "execute_result"
    }
   ],
   "source": [
    "# 查看插入的电影信息\n",
    "sql = 'SELECT * FROM movie_info'\n",
    "with kg_conn.cursor() as cursor:\n",
    "    cursor.execute(sql)\n",
    "    result = cursor.fetchone()\n",
    "result"
   ]
  },
  {
   "cell_type": "markdown",
   "id": "20ed6ad2",
   "metadata": {},
   "source": [
    "## 提取电影演员(演员、编剧、导演)信息到`movie_person`之中"
   ]
  },
  {
   "cell_type": "code",
   "execution_count": 14,
   "id": "2b55c91c",
   "metadata": {},
   "outputs": [],
   "source": [
    "# sql = \"DROP TABLE  movie_person;\"\n",
    "# with kg_conn.cursor() as cursor:\n",
    "#     cursor.execute(sql)\n",
    "#     kg_conn.commit()\n",
    "\n",
    "sql = '''\n",
    "create table movie_person\n",
    "(\n",
    "  movie_person_id            int          not null\n",
    "    primary key,\n",
    "  movie_person_name          text         null,\n",
    "  movie_person_image_url     varchar(200) null,\n",
    "  movie_person_gender        varchar(100) null,\n",
    "  movie_person_constellation varchar(200) null,\n",
    "  movie_person_birthday      varchar(200) null,\n",
    "  movie_person_birthplace    text         null,\n",
    "  movie_person_profession    varchar(200) null,\n",
    "  movie_person_other_name    text         null,\n",
    "  movie_person_introduction  mediumtext   null\n",
    ");\n",
    "'''\n",
    "\n",
    "with kg_conn.cursor() as cursor:\n",
    "    cursor.execute(sql)\n",
    "    kg_conn.commit()"
   ]
  },
  {
   "cell_type": "code",
   "execution_count": 15,
   "id": "24e6d89f",
   "metadata": {},
   "outputs": [],
   "source": [
    "movie_person_file_path = '../data/movie_kg/txt/small_movie_person_info.txt'\n",
    "movie_person_str_list = open(movie_person_file_path, 'r').readlines()\n",
    "movie_person_json_list = [json.loads(movie) for movie in movie_person_str_list]\n",
    "\n",
    "try:\n",
    "    with kg_conn.cursor() as cursor:\n",
    "        for movie_person in movie_person_json_list:\n",
    "            movie_person_id = movie_person['id']\n",
    "            movie_person_name = movie_person['name']\n",
    "            movie_person_image_url = movie_person['image_url']\n",
    "            movie_person_gender = movie_person['gender']\n",
    "            movie_person_constellation = movie_person['constellation']\n",
    "            movie_person_birthday = movie_person['birthday']\n",
    "            movie_person_birthplace = movie_person['birthplace']\n",
    "            movie_person_profession = movie_person['profession']\n",
    "            movie_person_other_name = movie_person['other_english_name'] + movie_person['other_chinese_name']\n",
    "            movie_person_introduction = movie_person['introduction']\n",
    "\n",
    "            sql = \"INSERT INTO `movie_person` (`movie_person_id`, `movie_person_name`, `movie_person_image_url`,\" \\\n",
    "                    \"`movie_person_gender`, `movie_person_constellation`, `movie_person_birthday`, `movie_person_birthplace`,\" \\\n",
    "                    \"`movie_person_profession`, `movie_person_other_name`, \" \\\n",
    "                    \"`movie_person_introduction`) VALUES (%s, %s, %s, %s, %s, %s, %s, %s, %s, %s)\"\n",
    "            cursor.execute(sql, (movie_person_id, movie_person_name, movie_person_image_url, movie_person_gender,movie_person_constellation,movie_person_birthday, movie_person_birthplace, movie_person_profession,movie_person_other_name, movie_person_introduction))\n",
    "        kg_conn.commit()\n",
    "except Exception as err:\n",
    "    print('movie_person数据插入错误' + str(err))"
   ]
  },
  {
   "cell_type": "code",
   "execution_count": 16,
   "id": "ab5c13e7",
   "metadata": {
    "scrolled": true
   },
   "outputs": [
    {
     "data": {
      "text/plain": [
       "{'movie_person_id': 1000045,\n",
       " 'movie_person_name': '马修·布罗德里克 Matthew Broderick',\n",
       " 'movie_person_image_url': 'https://img1.doubanio.com/view/celebrity/s_ratio_celebrity/public/p2777.webp',\n",
       " 'movie_person_gender': '男',\n",
       " 'movie_person_constellation': ':白羊座',\n",
       " 'movie_person_birthday': '1962-03-21',\n",
       " 'movie_person_birthplace': '美国,纽约',\n",
       " 'movie_person_profession': '演员/配音/导演/制片人',\n",
       " 'movie_person_other_name': '',\n",
       " 'movie_person_introduction': \"天生一副娃娃脸，成长于纽约人文气息浓厚的格林威治村，父亲是著名的舞台兼电影演员詹姆斯·布罗德里克，母亲是帕特里夏·布罗德里克。高中时马修对运动、戏剧都有兴趣，由于膝盖受伤，他只得把精力放在后者，17岁时并和父亲同台演出。毕业后他参加舞台剧《同性三分亲》(1988年搬上银幕，仍由马修主演)，由于颇受好评，让他获得拍片机会。《逃课天才》推出后，马修顿时声名大噪。限于外形，他多半饰演青少年角色，在《光荣战役》中，他尝试成熟角色，试图摆脱以往乳臭未干的感觉。后终以《哥斯拉》等片跃升卖座明星。多年来作品不断，类型多样。1997年5月，他与《欲望都市》的女星莎拉·杰茜卡·帕克结婚。之前，他曾经和海伦·亨特，詹妮弗·格瑞订婚，并且约会过莉莉·泰勒。以大男孩般迷人魅力著称的轻喜剧演员马修·布罗德里克，1962年3月出生在纽约市，后在WaldenSchool学习表演，17岁在演员父亲的帮助下首次登台表演。在舞台剧《布里顿海滩》（BrightonBeachMemoirs）和影片《贵客光临》（MaxDuganReturns）的推动下，他的事业开始加速前进。1983年他在轻喜剧《战争游戏》（WarGames）中首次取得银幕事业的一大成功，随后的《X计划》（ProjectX）、《不知不觉爱上你》（AddictedtoLove）和《G型神探》（InspectorGadget）均取得不俗成绩，其他较有影响的作品有《超级女绑匪》（OutonaLimb）、《春天不是读书天》（FerrisBueller'sDayOff）、《纽约夜月情》（TheNightWeNeverMet）、《窈窕疯人院》（TheRoadtoWellville）、《王牌特派员》（TheCableGuy）、《选举》（Election）等，1993年电视电影《剧院人生》（ALifeintheTheater）为他赢得艾美奖电视类最佳男配角提名，《春天不是读书天》获得金球奖喜剧音乐类最佳男演员提名。1996年马修在《情深我心》（Infinity(1996）中身兼联合制片、导演和主演于一身，与担任编剧的母亲亲密合作，但影片无论是口碑还是票房都不算成功，也断了他的制作和导演梦。1998年他的首部动作特效大片《哥斯拉》（Godzilla）票房大卖，却遭遇恶评，迄今还有两部续集的合约没有履行。除了拍电影，他偶尔也会回到纽约的舞台，在《NightMustFall》等舞台剧中客串一把。\"}"
      ]
     },
     "execution_count": 16,
     "metadata": {},
     "output_type": "execute_result"
    }
   ],
   "source": [
    "sql = \"SELECT * FROM movie_person;\"\n",
    "with kg_conn.cursor() as cursor:\n",
    "    cursor.execute(sql)\n",
    "    result = cursor.fetchone()\n",
    "result"
   ]
  },
  {
   "cell_type": "markdown",
   "id": "840bb103",
   "metadata": {},
   "source": [
    "## 电影和演员之间进行关联`actor_to_movie`"
   ]
  },
  {
   "cell_type": "code",
   "execution_count": 17,
   "id": "bcf7d01d",
   "metadata": {},
   "outputs": [],
   "source": [
    "# sql = \"DROP TABLE  actor_to_movie;\"\n",
    "# with kg_conn.cursor() as cursor:\n",
    "#     cursor.execute(sql)\n",
    "#     kg_conn.commit()\n",
    "\n",
    "sql = '''\n",
    "create table actor_to_movie\n",
    "(\n",
    "  movie_info_id  int not null,\n",
    "  movie_actor_id int not null,\n",
    "  primary key (movie_info_id, movie_actor_id),\n",
    "  constraint actor_to_movie_movie\n",
    "  foreign key (movie_info_id) references movie_info (movie_info_id),\n",
    "  constraint actor_to_movie_person\n",
    "  foreign key (movie_actor_id) references movie_person (movie_person_id)\n",
    ");\n",
    "'''\n",
    "with kg_conn.cursor() as cursor:\n",
    "    cursor.execute(sql)\n",
    "    kg_conn.commit()"
   ]
  },
  {
   "cell_type": "code",
   "execution_count": 18,
   "id": "f39bbc00",
   "metadata": {},
   "outputs": [],
   "source": [
    "try:\n",
    "    with kg_conn.cursor() as cursor:\n",
    "        for movie in movie_json_list:\n",
    "            movie_info_id = movie['id']\n",
    "            movie_actor = movie['actors']\n",
    "            movie_actor_id = [actor['id'] for actor in movie_actor]\n",
    "            movie_actor_id = list(set(movie_actor_id))\n",
    "            if '' in movie_actor_id:\n",
    "                movie_actor_id.remove('')\n",
    "            for actor_id in movie_actor_id:\n",
    "                # 判断movie_person中是否存在该ID\n",
    "                is_existed_sql = 'select 1 from `movie_person` where `movie_person_id` = ' + '\\'' + actor_id + '\\'' + 'limit 1'\n",
    "                cursor.execute(is_existed_sql)\n",
    "                is_existed = cursor.fetchone()\n",
    "                if is_existed is None:\n",
    "                    continue\n",
    "                actor_to_movie_sql = \"INSERT INTO `actor_to_movie` (`movie_info_id`, `movie_actor_id`) VALUES (%s, %s)\"\n",
    "                cursor.execute(actor_to_movie_sql, (movie_info_id, actor_id))\n",
    "        kg_conn.commit()\n",
    "except Exception as err:\n",
    "    print('actor_to_movie数据插入错误' + str(err))"
   ]
  },
  {
   "cell_type": "code",
   "execution_count": 19,
   "id": "b498d67a",
   "metadata": {},
   "outputs": [],
   "source": [
    "sql = '''\n",
    "create index actor_to_movie_person\n",
    "  on actor_to_movie (movie_actor_id);\n",
    "'''\n",
    "with kg_conn.cursor() as cursor:\n",
    "    cursor.execute(sql)\n",
    "    kg_conn.commit()"
   ]
  },
  {
   "cell_type": "code",
   "execution_count": 20,
   "id": "d3fcbfc2",
   "metadata": {},
   "outputs": [
    {
     "data": {
      "text/plain": [
       "[{'movie_info_id': 1301753, 'movie_actor_id': 1000045},\n",
       " {'movie_info_id': 25980443, 'movie_actor_id': 1000045},\n",
       " {'movie_info_id': 1292052, 'movie_actor_id': 1000095},\n",
       " {'movie_info_id': 6878446, 'movie_actor_id': 1000145},\n",
       " {'movie_info_id': 30377703, 'movie_actor_id': 1000145},\n",
       " {'movie_info_id': 26325320, 'movie_actor_id': 1000147},\n",
       " {'movie_info_id': 2161696, 'movie_actor_id': 1000182},\n",
       " {'movie_info_id': 3319755, 'movie_actor_id': 1000182},\n",
       " {'movie_info_id': 1295644, 'movie_actor_id': 1000208},\n",
       " {'movie_info_id': 2028677, 'movie_actor_id': 1000220}]"
      ]
     },
     "execution_count": 20,
     "metadata": {},
     "output_type": "execute_result"
    }
   ],
   "source": [
    "sql = \"SELECT * FROM actor_to_movie;\"\n",
    "with kg_conn.cursor() as cursor:\n",
    "    cursor.execute(sql)\n",
    "    result = cursor.fetchmany(10)\n",
    "result"
   ]
  },
  {
   "cell_type": "markdown",
   "id": "7b3c16ba",
   "metadata": {},
   "source": [
    "## 电影和编剧之间进行关联 `writer_to_movie`"
   ]
  },
  {
   "cell_type": "code",
   "execution_count": 21,
   "id": "a2833555",
   "metadata": {},
   "outputs": [],
   "source": [
    "# sql = \"DROP TABLE  writer_to_movie;\"\n",
    "# with kg_conn.cursor() as cursor:\n",
    "#     cursor.execute(sql)\n",
    "#     kg_conn.commit()\n",
    "\n",
    "sql = '''\n",
    "create table writer_to_movie\n",
    "(\n",
    "  movie_info_id   int not null,\n",
    "  movie_writer_id int not null,\n",
    "  primary key (movie_info_id, movie_writer_id),\n",
    "  constraint writer_to_movie_movie\n",
    "  foreign key (movie_info_id) references movie_info (movie_info_id),\n",
    "  constraint writer_to_movie_person\n",
    "  foreign key (movie_writer_id) references movie_person (movie_person_id)\n",
    ");\n",
    "'''\n",
    "with kg_conn.cursor() as cursor:\n",
    "    cursor.execute(sql)\n",
    "    kg_conn.commit()"
   ]
  },
  {
   "cell_type": "code",
   "execution_count": 22,
   "id": "778ddd1a",
   "metadata": {},
   "outputs": [],
   "source": [
    "try:\n",
    "    with kg_conn.cursor() as cursor:\n",
    "        for movie in movie_json_list:\n",
    "            movie_info_id = movie['id']\n",
    "            movie_writer = movie['writers']\n",
    "            movie_writer_id = [writer['id'] for writer in movie_writer]\n",
    "            movie_writer_id = list(set(movie_writer_id))\n",
    "            if '' in movie_writer_id:\n",
    "                movie_writer_id.remove('')\n",
    "            for writer_id in movie_writer_id:\n",
    "                # 判断movie_person中是否存在该ID\n",
    "                is_existed_sql = 'select 1 from `movie_person` where `movie_person_id` = ' + '\\'' + writer_id + '\\'' + 'limit 1'\n",
    "                cursor.execute(is_existed_sql)\n",
    "                is_existed = cursor.fetchone()\n",
    "                if is_existed is None:\n",
    "                    continue\n",
    "                writer_to_movie_sql = \"INSERT INTO `writer_to_movie` (`movie_info_id`, `movie_writer_id`) VALUES (%s, %s)\"\n",
    "                cursor.execute(writer_to_movie_sql, (movie_info_id, writer_id))\n",
    "        kg_conn.commit()\n",
    "except Exception as err:\n",
    "    print('actor_to_movie数据插入错误' + str(err))"
   ]
  },
  {
   "cell_type": "code",
   "execution_count": 23,
   "id": "a913749e",
   "metadata": {},
   "outputs": [],
   "source": [
    "sql = '''\n",
    "create index writer_to_movie_person\n",
    "  on writer_to_movie (movie_writer_id);\n",
    "'''\n",
    "with kg_conn.cursor() as cursor:\n",
    "    cursor.execute(sql)\n",
    "    kg_conn.commit()"
   ]
  },
  {
   "cell_type": "code",
   "execution_count": 24,
   "id": "7d775f0e",
   "metadata": {},
   "outputs": [
    {
     "data": {
      "text/plain": [
       "[{'movie_info_id': 5300054, 'movie_writer_id': 1000371},\n",
       " {'movie_info_id': 6803494, 'movie_writer_id': 1000371},\n",
       " {'movie_info_id': 1292720, 'movie_writer_id': 1000393},\n",
       " {'movie_info_id': 1485260, 'movie_writer_id': 1000393},\n",
       " {'movie_info_id': 2129039, 'movie_writer_id': 1004746},\n",
       " {'movie_info_id': 25954475, 'movie_writer_id': 1004746},\n",
       " {'movie_info_id': 1381964, 'movie_writer_id': 1005177},\n",
       " {'movie_info_id': 2043546, 'movie_writer_id': 1005177},\n",
       " {'movie_info_id': 26683290, 'movie_writer_id': 1005177},\n",
       " {'movie_info_id': 1292001, 'movie_writer_id': 1005822}]"
      ]
     },
     "execution_count": 24,
     "metadata": {},
     "output_type": "execute_result"
    }
   ],
   "source": [
    "sql = \"SELECT * FROM writer_to_movie;\"\n",
    "with kg_conn.cursor() as cursor:\n",
    "    cursor.execute(sql)\n",
    "    result = cursor.fetchmany(10)\n",
    "result"
   ]
  },
  {
   "cell_type": "markdown",
   "id": "6fb198b5",
   "metadata": {},
   "source": [
    "## 电影和电影类别之间进行关联"
   ]
  },
  {
   "cell_type": "code",
   "execution_count": 25,
   "id": "a5daa9be",
   "metadata": {},
   "outputs": [],
   "source": [
    "# sql = \"DROP TABLE  movie_to_genre;\"\n",
    "# with kg_conn.cursor() as cursor:\n",
    "#     cursor.execute(sql)\n",
    "#     kg_conn.commit()\n",
    "\n",
    "sql = '''\n",
    "create table movie_to_genre\n",
    "(\n",
    "  movie_info_id  int not null,\n",
    "  movie_genre_id int not null,\n",
    "  primary key (movie_info_id, movie_genre_id),\n",
    "  constraint movie_to_genre_movie\n",
    "  foreign key (movie_info_id) references movie_info (movie_info_id),\n",
    "  constraint movie_to_genre_genre\n",
    "  foreign key (movie_genre_id) references movie_genre (movie_genre_id)\n",
    ");\n",
    "'''\n",
    "with kg_conn.cursor() as cursor:\n",
    "    cursor.execute(sql)\n",
    "    kg_conn.commit()"
   ]
  },
  {
   "cell_type": "code",
   "execution_count": 26,
   "id": "6dc12205",
   "metadata": {},
   "outputs": [],
   "source": [
    "try:\n",
    "    with kg_conn.cursor() as cursor:\n",
    "        for movie in movie_json_list:\n",
    "            movie_info_id = movie['id']\n",
    "            movie_genres = movie['genres']\n",
    "            for genre in movie_genres:\n",
    "                movie_genre_id_sql = \"SELECT `movie_genre_id` FROM `movie_genre` where `movie_genre_name`=\" + '\\'' + str(\n",
    "                    genre) + '\\''\n",
    "                cursor.execute(movie_genre_id_sql)\n",
    "                movie_genre_info = cursor.fetchone()\n",
    "                movie_genre_id = movie_genre_info['movie_genre_id']\n",
    "\n",
    "                # 插入到movie_to_genre之中\n",
    "                # print(str(movie_info_id) + ':' + str(movie_genre_id))\n",
    "                movie_to_genre_sql = 'INSERT INTO `movie_to_genre` (`movie_info_id`, `movie_genre_id`) VALUES (%s, %s)'\n",
    "                cursor.execute(movie_to_genre_sql, (movie_info_id, movie_genre_id))\n",
    "        kg_conn.commit()\n",
    "\n",
    "except Exception as err:\n",
    "    print('movie_to_genre数据插入错误' + str(err))"
   ]
  },
  {
   "cell_type": "code",
   "execution_count": 27,
   "id": "5269c1c5",
   "metadata": {},
   "outputs": [],
   "source": [
    "sql = '''\n",
    "create index movie_to_genre_idx\n",
    "  on movie_to_genre (movie_genre_id);\n",
    "'''\n",
    "with kg_conn.cursor() as cursor:\n",
    "    cursor.execute(sql)\n",
    "    kg_conn.commit()"
   ]
  },
  {
   "cell_type": "code",
   "execution_count": 28,
   "id": "63cf2a55",
   "metadata": {},
   "outputs": [
    {
     "data": {
      "text/plain": [
       "[{'movie_info_id': 1291545, 'movie_genre_id': 1},\n",
       " {'movie_info_id': 1291568, 'movie_genre_id': 1},\n",
       " {'movie_info_id': 1291818, 'movie_genre_id': 1},\n",
       " {'movie_info_id': 1292062, 'movie_genre_id': 1},\n",
       " {'movie_info_id': 1292365, 'movie_genre_id': 1},\n",
       " {'movie_info_id': 1292434, 'movie_genre_id': 1},\n",
       " {'movie_info_id': 1294766, 'movie_genre_id': 1},\n",
       " {'movie_info_id': 1294833, 'movie_genre_id': 1},\n",
       " {'movie_info_id': 1300064, 'movie_genre_id': 1},\n",
       " {'movie_info_id': 1301617, 'movie_genre_id': 1}]"
      ]
     },
     "execution_count": 28,
     "metadata": {},
     "output_type": "execute_result"
    }
   ],
   "source": [
    "sql = \"SELECT * FROM movie_to_genre;\"\n",
    "with kg_conn.cursor() as cursor:\n",
    "    cursor.execute(sql)\n",
    "    result = cursor.fetchmany(10)\n",
    "result"
   ]
  },
  {
   "cell_type": "markdown",
   "id": "a5c38aba",
   "metadata": {},
   "source": [
    "## 显示所有 Table"
   ]
  },
  {
   "cell_type": "code",
   "execution_count": 29,
   "id": "fd8d0e81",
   "metadata": {},
   "outputs": [
    {
     "data": {
      "text/plain": [
       "[{'Tables_in_movie_kg': 'actor_to_movie'},\n",
       " {'Tables_in_movie_kg': 'movie_genre'},\n",
       " {'Tables_in_movie_kg': 'movie_info'},\n",
       " {'Tables_in_movie_kg': 'movie_person'},\n",
       " {'Tables_in_movie_kg': 'movie_to_genre'},\n",
       " {'Tables_in_movie_kg': 'writer_to_movie'}]"
      ]
     },
     "execution_count": 29,
     "metadata": {},
     "output_type": "execute_result"
    }
   ],
   "source": [
    "sql = '''\n",
    "SHOW TABLES;\n",
    "'''\n",
    "with kg_conn.cursor() as cursor:\n",
    "    cursor.execute(sql)\n",
    "    result = cursor.fetchall()\n",
    "result"
   ]
  },
  {
   "cell_type": "markdown",
   "id": "96bf1f0f",
   "metadata": {},
   "source": [
    "RDB转换成RDF有两种方式，一是direct mapping，即直接映射。另一种为R2RDF(RDB to RDF Mapping Language)，链接为https://www.w3.org/TR/r2rml/。\n",
    "\n",
    "\n",
    "下面我们使用D2RQ工具将RDB数据转换到RDF形式。\n",
    "直接映射规则为:\n",
    "\n",
    "- 数据库的表作为本体中的类（Class）。\n",
    "- 表的列作为属性（Property）。\n",
    "- 表的行作为实例/资源。\n",
    "- 表的单元格值为字面量。\n",
    "- 如果单元格所在的列是外键，那么其值为IRI，或者说实体/资源。"
   ]
  },
  {
   "cell_type": "markdown",
   "id": "5f1648a1",
   "metadata": {},
   "source": [
    "## 在命令行中执行以下命令生成CSV"
   ]
  },
  {
   "cell_type": "markdown",
   "id": "e9c28116",
   "metadata": {},
   "source": [
    "```\n",
    "bin/mysql -A movie_kg -uroot -ppassword -e 'select * from movie_person;' > ~/code/git/fhaoguo/KnowledgeGraph/data/movie_kg/csv/movie_person.csv\n",
    "\n",
    "bin/mysql -A movie_kg -uroot -ppassword -e 'select * from movie_info;' > ~/code/git/fhaoguo/KnowledgeGraph/data/movie_kg/csv/movie_info.csv\n",
    "\n",
    "bin/mysql -A movie_kg -uroot -ppassword -e 'select * from movie_genre;' > ~/code/git/fhaoguo/KnowledgeGraph/data/movie_kg/csv/movie_genre.csv\n",
    "\n",
    "bin/mysql -A movie_kg -uroot -ppassword -e 'select * from movie_to_genre;' > ~/code/git/fhaoguo/KnowledgeGraph/data/movie_kg/csv/movie_to_genre.csv\n",
    "\n",
    "bin/mysql -A movie_kg -uroot -ppassword -e 'select * from actor_to_movie;' > ~/code/git/fhaoguo/KnowledgeGraph/data/movie_kg/csv/actor_to_movie.csv\n",
    "\n",
    "bin/mysql -A movie_kg -uroot -ppassword -e 'select * from writer_to_movie;' > ~/code/git/fhaoguo/KnowledgeGraph/data/movie_kg/csv/writer_to_movie.csv\n",
    "```"
   ]
  },
  {
   "cell_type": "markdown",
   "id": "4c342f6f",
   "metadata": {},
   "source": [
    "## 编辑属性"
   ]
  },
  {
   "cell_type": "code",
   "execution_count": 30,
   "id": "cd12b15f",
   "metadata": {},
   "outputs": [],
   "source": [
    "movie_person = pd.read_table(\"../data/movie_kg/csv/movie_person.csv\")\n",
    "columns = list(movie_person.columns)\n",
    "for i, name in enumerate(columns):\n",
    "    if i == 0:\n",
    "        columns[i] = columns[i] + \":ID\"\n",
    "    else:\n",
    "        columns[i] = columns[i] + \":string\"\n",
    "movie_person.columns = columns\n",
    "movie_person[\":LABEL\"] = \"person\"\n",
    "movie_person.to_csv(\"../data/movie_kg/csv/movie_person.csv\", index = None)"
   ]
  },
  {
   "cell_type": "code",
   "execution_count": 31,
   "id": "f58415bb",
   "metadata": {},
   "outputs": [],
   "source": [
    "movie_info = pd.read_table(\"../data/movie_kg/csv/movie_info.csv\")\n",
    "columns = list(movie_info.columns)\n",
    "for i, name in enumerate(columns):\n",
    "    if i == 0:\n",
    "        columns[i] = columns[i] + \":ID\"\n",
    "    else:\n",
    "        columns[i] = columns[i] + \":string\"\n",
    "movie_info.columns = columns\n",
    "movie_info[\":LABEL\"] = \"movie\"\n",
    "movie_info.to_csv(\"../data/movie_kg/csv/movie_info.csv\", index = None)"
   ]
  },
  {
   "cell_type": "code",
   "execution_count": 32,
   "id": "852add47",
   "metadata": {},
   "outputs": [],
   "source": [
    "movie_genre = pd.read_table(\"../data/movie_kg/csv/movie_genre.csv\")\n",
    "columns = list(movie_genre.columns)\n",
    "for i, name in enumerate(columns):\n",
    "    if i == 0:\n",
    "        columns[i] = columns[i] + \":ID\"\n",
    "    else:\n",
    "        columns[i] = columns[i] + \":string\"\n",
    "movie_genre.columns = columns\n",
    "movie_genre[\":LABEL\"] = \"genre\"\n",
    "movie_genre.to_csv(\"../data/movie_kg/csv/movie_genre.csv\", index = None)"
   ]
  },
  {
   "cell_type": "markdown",
   "id": "469570d1",
   "metadata": {},
   "source": [
    "## Clean Relationships"
   ]
  },
  {
   "cell_type": "code",
   "execution_count": 33,
   "id": "9b3ec432",
   "metadata": {},
   "outputs": [],
   "source": [
    "movie_info_set = set(movie_info[\"movie_info_id:ID\"].to_list())\n",
    "movie_genre_set = set(movie_genre[\"movie_genre_id:ID\"].to_list())\n",
    "movie_person_set = set(movie_person[\"movie_person_id:ID\"].to_list())"
   ]
  },
  {
   "cell_type": "code",
   "execution_count": 34,
   "id": "addcf634",
   "metadata": {
    "scrolled": true
   },
   "outputs": [],
   "source": [
    "movie_to_genre = pd.read_table(\"../data/movie_kg/csv/movie_to_genre.csv\")\n",
    "movie_to_genre.columns = [\":START_ID\", \":END_ID\"]\n",
    "movie_to_genre = movie_to_genre[movie_to_genre[\":START_ID\"].isin(movie_info_set) & movie_to_genre[\":END_ID\"].isin(movie_genre_set)]\n",
    "movie_to_genre[\":TYPE\"] = \"类型\"\n",
    "movie_to_genre.to_csv(\"../data/movie_kg/csv/movie_to_genre2.csv\", index = None)"
   ]
  },
  {
   "cell_type": "code",
   "execution_count": 35,
   "id": "155e03ae",
   "metadata": {},
   "outputs": [],
   "source": [
    "actor_to_movie = pd.read_table(\"../data/movie_kg/csv/actor_to_movie.csv\")\n",
    "actor_to_movie.columns = [\":START_ID\", \":END_ID\"]\n",
    "actor_to_movie = actor_to_movie[actor_to_movie[\":START_ID\"].isin(movie_info_set) &  actor_to_movie[\":END_ID\"].isin(movie_person_set)]\n",
    "actor_to_movie[\":TYPE\"] = \"演员\"\n",
    "actor_to_movie.to_csv(\"../data/movie_kg/csv/actor_to_movie2.csv\", index = None)"
   ]
  },
  {
   "cell_type": "code",
   "execution_count": 36,
   "id": "f6697444",
   "metadata": {},
   "outputs": [],
   "source": [
    "writer_to_movie = pd.read_table(\"../data/movie_kg/csv/writer_to_movie.csv\")\n",
    "writer_to_movie.columns = [\":START_ID\", \":END_ID\"]\n",
    "writer_to_movie = writer_to_movie[writer_to_movie[\":START_ID\"].isin(movie_info_set) &  writer_to_movie[\":END_ID\"].isin(movie_person_set)]\n",
    "writer_to_movie[\":TYPE\"] = \"编剧\"\n",
    "writer_to_movie.to_csv(\"../data/movie_kg/csv/writer_to_movie2.csv\", index = None)"
   ]
  },
  {
   "cell_type": "markdown",
   "id": "bec4ce64",
   "metadata": {},
   "source": [
    "## CSV导入Neo4j（ONgDB）"
   ]
  },
  {
   "cell_type": "markdown",
   "id": "83339a78",
   "metadata": {},
   "source": [
    "```\n",
    "bin/ongdb-admin import --database graph.db --nodes=import/movie_genre.csv --nodes=import/movie_info.csv --nodes=import/movie_person.csv --relationships=import/actor_to_movie2.csv --relationships=import/movie_to_genre2.csv --relationships=import/writer_to_movie2.csv\n",
    "```"
   ]
  },
  {
   "cell_type": "markdown",
   "id": "b2d5c92d",
   "metadata": {},
   "source": [
    "## 效果预览"
   ]
  },
  {
   "cell_type": "markdown",
   "id": "6984a146",
   "metadata": {},
   "source": [
    "执行以下Cypher语句\n",
    "```\n",
    "match p=(:person)<-[:`演员`|:`编剧`]-(:movie)-[:`编剧`]->(:person)<-[:`演员`]-(:movie)-[:`编剧`|:`演员`]->(:person) return p limit 50\n",
    "```\n",
    "结果如下："
   ]
  },
  {
   "cell_type": "markdown",
   "id": "b773141b",
   "metadata": {},
   "source": [
    "![](./graph.png)"
   ]
  },
  {
   "cell_type": "code",
   "execution_count": null,
   "id": "ad87a48d",
   "metadata": {},
   "outputs": [],
   "source": []
  }
 ],
 "metadata": {
  "kernelspec": {
   "display_name": "Python 3 (ipykernel)",
   "language": "python",
   "name": "python3"
  },
  "language_info": {
   "codemirror_mode": {
    "name": "ipython",
    "version": 3
   },
   "file_extension": ".py",
   "mimetype": "text/x-python",
   "name": "python",
   "nbconvert_exporter": "python",
   "pygments_lexer": "ipython3",
   "version": "3.9.7"
  }
 },
 "nbformat": 4,
 "nbformat_minor": 5
}
