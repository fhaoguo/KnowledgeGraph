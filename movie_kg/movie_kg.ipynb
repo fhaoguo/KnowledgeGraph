{
 "cells": [
  {
   "cell_type": "markdown",
   "id": "852b8e80",
   "metadata": {},
   "source": [
    "# 豆瓣电影图谱\n",
    "1. 从豆瓣爬取电影与书籍信息\n",
    "2. 将爬取到的json数据转化为MySQL并存储\n",
    "3. 将 Mysql 数据转化为 CSV 数据\n",
    "4. 将 CSV 数据导入 Neo4j"
   ]
  },
  {
   "cell_type": "code",
   "execution_count": null,
   "id": "5a4194e9",
   "metadata": {},
   "outputs": [],
   "source": [
    "from pathlib import Path\n",
    "import pymysql\n",
    "import json\n",
    "import pandas as pd"
   ]
  },
  {
   "cell_type": "markdown",
   "id": "d5bdae9a",
   "metadata": {},
   "source": [
    "## 爬取豆瓣电影与书籍详细信息\n",
    "\n",
    "爬虫参考 github link\n",
    "+ [https://github.com/weizhixiaoyi/DouBan-Spider](https://github.com/weizhixiaoyi/DouBan-Spider)\n",
    "+ [https://github.com/Jack-Cherish/python-spider](https://github.com/Jack-Cherish/python-spider)\n",
    "+ [https://github.com/facert/awesome-spider](https://github.com/facert/awesome-spider)\n",
    "+ [https://github.com/binux/pyspider](https://github.com/binux/pyspider)\n",
    "+ [https://github.com/wistbean/learn_python3_spider](https://github.com/wistbean/learn_python3_spider)"
   ]
  },
  {
   "cell_type": "code",
   "execution_count": null,
   "id": "81ebe4ed",
   "metadata": {},
   "outputs": [],
   "source": [
    "root_dir = Path('../data/movie_kg/txt')\n",
    "for file in root_dir.glob('*'):\n",
    "    print(f'path_name:{file} \\nname:\\t{file.name}\\n')"
   ]
  },
  {
   "cell_type": "markdown",
   "id": "26838616",
   "metadata": {},
   "source": [
    "## Explore Data Analysis"
   ]
  },
  {
   "cell_type": "code",
   "execution_count": null,
   "id": "7f53eb9b",
   "metadata": {},
   "outputs": [],
   "source": [
    "count = 0\n",
    "while True:\n",
    "    with open(root_dir / \"small_movie_info.txt\", \"r\") as f:\n",
    "        line = f.readline()\n",
    "        print(line)\n",
    "        if count > 3:\n",
    "            break\n",
    "        count += 1"
   ]
  },
  {
   "cell_type": "markdown",
   "id": "c600b901",
   "metadata": {},
   "source": [
    "- 电影信息(**small_movie_info.txt**)包括电影id、图片链接、名称、导演名称、编剧名称、主演名称、类型、制片国家、语言、上映日期、片长、季数、集数、其他名称、剧情简介、评分、评分人数，共67245条数据信息。虽说是电影信息，但其中也包括电视剧、综艺、动漫、纪录片、短片。\n",
    "\n",
    "- 电影演员(**small_movie_person_info.txt**)信息包括演员id、姓名、图片链接、性别、星座、出生日期、出生地、职业、更多中文名、更多外文名、-家庭成员、简介，共89592条数据信息。这里所指的演员包括电影演员、编剧、导演。"
   ]
  },
  {
   "cell_type": "markdown",
   "id": "56686076",
   "metadata": {},
   "source": [
    "## 提取电影类别, 并存入到mysql之中\n",
    "transfrom json to sql\n",
    "\n",
    "创建 database \n",
    "\n",
    "```sh\n",
    "mysql -u root -p\n",
    "\n",
    "CREATE DATABASE douban_kg;\n",
    "```"
   ]
  },
  {
   "cell_type": "code",
   "execution_count": null,
   "id": "56bf8847",
   "metadata": {},
   "outputs": [],
   "source": [
    "# 连接mysql数据库\n",
    "\n",
    "kg_conn = pymysql.connect(\n",
    "    host='localhost',\n",
    "    port=3306,\n",
    "    user='root',\n",
    "    password='fengdage',\n",
    "    db='movie_kg',\n",
    "    cursorclass=pymysql.cursors.DictCursor\n",
    ")"
   ]
  },
  {
   "cell_type": "code",
   "execution_count": null,
   "id": "e64ff90d",
   "metadata": {},
   "outputs": [],
   "source": [
    "# 读取文件\n",
    "movie_file_path = '../data/movie_kg/txt/small_movie_info.txt'\n",
    "movie_str_list = open(movie_file_path, 'r').readlines()\n",
    "movie_json_list = [json.loads(movie) for movie in movie_str_list]"
   ]
  },
  {
   "cell_type": "code",
   "execution_count": null,
   "id": "142a352d",
   "metadata": {},
   "outputs": [],
   "source": [
    "# 电影类型\n",
    "movie_genres = set()\n",
    "for movie in movie_json_list:\n",
    "    for genre in movie['genres']:\n",
    "        movie_genres.add(genre)\n",
    "movie_genres = list(movie_genres)\n",
    "movie_genres.sort(key=lambda i: len(i))\n",
    "print(movie_genres)"
   ]
  },
  {
   "cell_type": "markdown",
   "id": "d3df283b",
   "metadata": {},
   "source": [
    "## 存储信息到表`movie_genere`之中"
   ]
  },
  {
   "cell_type": "markdown",
   "id": "e2046663",
   "metadata": {},
   "source": [
    "#### 创建表"
   ]
  },
  {
   "cell_type": "code",
   "execution_count": null,
   "id": "9f4a8b69",
   "metadata": {
    "scrolled": true
   },
   "outputs": [],
   "source": [
    "# sql = \"DROP TABLE  movie_genre;\"\n",
    "# with kg_conn.cursor() as cursor:\n",
    "#   cursor.execute(sql)\n",
    "#   kg_conn.commit()\n",
    "\n",
    "sql = '''\n",
    "create table movie_genre\n",
    "(\n",
    "  movie_genre_id   int         not null\n",
    "    primary key,\n",
    "  movie_genre_name varchar(20) not null\n",
    ");\n",
    "'''\n",
    "with kg_conn.cursor() as cursor:\n",
    "    cursor.execute(sql)\n",
    "    kg_conn.commit()"
   ]
  },
  {
   "cell_type": "markdown",
   "id": "b5ae3bf7",
   "metadata": {},
   "source": [
    "#### 数据插入"
   ]
  },
  {
   "cell_type": "code",
   "execution_count": null,
   "id": "81bd0847",
   "metadata": {},
   "outputs": [],
   "source": [
    "try:\n",
    "    genre_id = 1\n",
    "    with kg_conn.cursor() as cursor:\n",
    "        # Insert Data\n",
    "        for genre in movie_genres:\n",
    "            sql = \"INSERT INTO `movie_genre` (`movie_genre_id`, `movie_genre_name`) VALUES (%s, %s)\"\n",
    "            cursor.execute(sql, (genre_id, genre))\n",
    "            genre_id += 1\n",
    "        kg_conn.commit()\n",
    "except Exception as err:\n",
    "    print('movie_genres数据插入错误' + str(err))"
   ]
  },
  {
   "cell_type": "markdown",
   "id": "43cbe5c9",
   "metadata": {},
   "source": [
    "#### 测试插入结果"
   ]
  },
  {
   "cell_type": "code",
   "execution_count": null,
   "id": "6348c0c4",
   "metadata": {},
   "outputs": [],
   "source": [
    "sql = 'SELECT * FROM movie_genre LIMIT 5;'\n",
    "with kg_conn.cursor() as cursor:\n",
    "    cursor.execute(sql)\n",
    "    result = cursor.fetchall()\n",
    "result"
   ]
  },
  {
   "cell_type": "markdown",
   "id": "678e5143",
   "metadata": {},
   "source": [
    "## 存储信息到表`movie_info`之中"
   ]
  },
  {
   "cell_type": "code",
   "execution_count": null,
   "id": "c0240ce6",
   "metadata": {},
   "outputs": [],
   "source": [
    "# 删除表\n",
    "# sql = \"DROP TABLE  movie_info;\"\n",
    "# with kg_conn.cursor() as cursor:\n",
    "#   cursor.execute(sql)\n",
    "#   kg_conn.commit()\n",
    "\n",
    "# 创建表\n",
    "sql = '''\n",
    "create table movie_info\n",
    "(\n",
    "  movie_info_id           int          not null\n",
    "    primary key,\n",
    "  movie_info_name         text         null,\n",
    "  movie_info_image_url    varchar(200) null,\n",
    "  movie_info_country      varchar(200) null,\n",
    "  movie_info_language     varchar(200) null,\n",
    "  movie_info_pubdate      varchar(200) null,\n",
    "  movie_info_duration     varchar(200) null,\n",
    "  movie_info_other_name   text         null,\n",
    "  movie_info_summary      mediumtext   null,\n",
    "  movie_info_rating       varchar(10)  null,\n",
    "  movie_info_review_count varchar(200) null\n",
    ");\n",
    "'''\n",
    "with kg_conn.cursor() as cursor:\n",
    "    cursor.execute(sql)\n",
    "    kg_conn.commit()"
   ]
  },
  {
   "cell_type": "code",
   "execution_count": null,
   "id": "88a21810",
   "metadata": {},
   "outputs": [],
   "source": [
    "# 存储信息到mysql数据库之中\n",
    "try:\n",
    "    with kg_conn.cursor() as cursor:\n",
    "        for movie in movie_json_list:\n",
    "            movie_info_id = movie['id']\n",
    "            movie_info_image_url = movie['image_url']\n",
    "            movie_info_name = movie['name']\n",
    "            movie_info_country = ','.join(movie['countries'])\n",
    "            movie_info_language = ','.join(movie['languages'])\n",
    "            movie_info_pubdate = ','.join(movie['pubdates'])\n",
    "            movie_info_duration = ','.join(movie['durations'])\n",
    "            movie_info_other_name = ','.join(movie['other_names'])\n",
    "            movie_info_summary = movie['summary']\n",
    "            movie_info_rating = movie['rating']['average']\n",
    "            movie_info_review_count = movie['rating']['reviews_count']\n",
    "\n",
    "            sql = \"INSERT INTO `movie_info` (`movie_info_id`, `movie_info_image_url`, `movie_info_name`, `movie_info_country`,\" \\\n",
    "                    \"`movie_info_language`, `movie_info_pubdate`, `movie_info_duration`, `movie_info_other_name`,\" \\\n",
    "                    \"`movie_info_summary`, `movie_info_rating`, `movie_info_review_count`) VALUES (%s, %s, %s, %s, %s, %s, %s, %s, %s, %s, %s)\"\n",
    "\n",
    "            cursor.execute(sql, (\n",
    "                movie_info_id, movie_info_image_url, movie_info_name, movie_info_country, movie_info_language,\n",
    "                movie_info_pubdate, movie_info_duration, movie_info_other_name,\n",
    "                movie_info_summary,\n",
    "                movie_info_rating, movie_info_review_count))\n",
    "        kg_conn.commit()\n",
    "except Exception as err:\n",
    "    print('movie_info插入数据错误' + str(err))"
   ]
  },
  {
   "cell_type": "code",
   "execution_count": null,
   "id": "8ccaa504",
   "metadata": {},
   "outputs": [],
   "source": [
    "# 查看插入的电影信息\n",
    "sql = 'SELECT * FROM movie_info'\n",
    "with kg_conn.cursor() as cursor:\n",
    "    cursor.execute(sql)\n",
    "    result = cursor.fetchone()\n",
    "result"
   ]
  },
  {
   "cell_type": "markdown",
   "id": "20ed6ad2",
   "metadata": {},
   "source": [
    "## 提取电影演员(演员、编剧、导演)信息到`movie_person`之中"
   ]
  },
  {
   "cell_type": "code",
   "execution_count": null,
   "id": "2b55c91c",
   "metadata": {},
   "outputs": [],
   "source": [
    "# sql = \"DROP TABLE  movie_person;\"\n",
    "# with kg_connection.cursor() as cursor:\n",
    "#   cursor.execute(sql)\n",
    "#   kg_connection.commit()\n",
    "\n",
    "sql = '''\n",
    "create table movie_person\n",
    "(\n",
    "  movie_person_id            int          not null\n",
    "    primary key,\n",
    "  movie_person_name          text         null,\n",
    "  movie_person_image_url     varchar(200) null,\n",
    "  movie_person_gender        varchar(100) null,\n",
    "  movie_person_constellation varchar(200) null,\n",
    "  movie_person_birthday      varchar(200) null,\n",
    "  movie_person_birthplace    text         null,\n",
    "  movie_person_profession    varchar(200) null,\n",
    "  movie_person_other_name    text         null,\n",
    "  movie_person_introduction  mediumtext   null\n",
    ");\n",
    "'''\n",
    "\n",
    "with kg_conn.cursor() as cursor:\n",
    "    cursor.execute(sql)\n",
    "    kg_conn.commit()"
   ]
  },
  {
   "cell_type": "code",
   "execution_count": null,
   "id": "24e6d89f",
   "metadata": {},
   "outputs": [],
   "source": [
    "movie_person_file_path = '../data/movie_kg/txt/small_movie_person_info.txt'\n",
    "movie_person_str_list = open(movie_person_file_path, 'r').readlines()\n",
    "movie_person_json_list = [json.loads(movie) for movie in movie_person_str_list]\n",
    "\n",
    "try:\n",
    "    with kg_conn.cursor() as cursor:\n",
    "        for movie_person in movie_person_json_list:\n",
    "            movie_person_id = movie_person['id']\n",
    "            movie_person_name = movie_person['name']\n",
    "            movie_person_image_url = movie_person['image_url']\n",
    "            movie_person_gender = movie_person['gender']\n",
    "            movie_person_constellation = movie_person['constellation']\n",
    "            movie_person_birthday = movie_person['birthday']\n",
    "            movie_person_birthplace = movie_person['birthplace']\n",
    "            movie_person_profession = movie_person['profession']\n",
    "            movie_person_other_name = movie_person['other_english_name'] + movie_person['other_chinese_name']\n",
    "            movie_person_introduction = movie_person['introduction']\n",
    "\n",
    "            sql = \"INSERT INTO `movie_person` (`movie_person_id`, `movie_person_name`, `movie_person_image_url`,\" \\\n",
    "                    \"`movie_person_gender`, `movie_person_constellation`, `movie_person_birthday`, `movie_person_birthplace`,\" \\\n",
    "                    \"`movie_person_profession`, `movie_person_other_name`, \" \\\n",
    "                    \"`movie_person_introduction`) VALUES (%s, %s, %s, %s, %s, %s, %s, %s, %s, %s)\"\n",
    "            cursor.execute(sql, (movie_person_id, movie_person_name, movie_person_image_url, movie_person_gender,movie_person_constellation,movie_person_birthday, movie_person_birthplace, movie_person_profession,movie_person_other_name, movie_person_introduction))\n",
    "        kg_conn.commit()\n",
    "except Exception as err:\n",
    "    print('movie_person数据插入错误' + str(err))"
   ]
  },
  {
   "cell_type": "code",
   "execution_count": null,
   "id": "ab5c13e7",
   "metadata": {
    "scrolled": true
   },
   "outputs": [],
   "source": [
    "sql = \"SELECT * FROM movie_person;\"\n",
    "with kg_conn.cursor() as cursor:\n",
    "    cursor.execute(sql)\n",
    "    result = cursor.fetchone()\n",
    "result"
   ]
  },
  {
   "cell_type": "markdown",
   "id": "840bb103",
   "metadata": {},
   "source": [
    "## 电影和演员之间进行关联`actor_to_movie`"
   ]
  },
  {
   "cell_type": "code",
   "execution_count": null,
   "id": "bcf7d01d",
   "metadata": {},
   "outputs": [],
   "source": [
    "# sql = \"DROP TABLE  actor_to_movie;\"\n",
    "# with kg_conn.cursor() as cursor:\n",
    "#   cursor.execute(sql)\n",
    "#   kg_conn.commit()\n",
    "\n",
    "sql = '''\n",
    "create table actor_to_movie\n",
    "(\n",
    "  movie_info_id  int not null,\n",
    "  movie_actor_id int not null,\n",
    "  primary key (movie_info_id, movie_actor_id),\n",
    "  constraint actor_to_movie_movie\n",
    "  foreign key (movie_info_id) references movie_info (movie_info_id),\n",
    "  constraint actor_to_movie_person\n",
    "  foreign key (movie_actor_id) references movie_person (movie_person_id)\n",
    ");\n",
    "'''\n",
    "with kg_conn.cursor() as cursor:\n",
    "    cursor.execute(sql)\n",
    "    kg_conn.commit()"
   ]
  },
  {
   "cell_type": "code",
   "execution_count": null,
   "id": "f39bbc00",
   "metadata": {},
   "outputs": [],
   "source": [
    "try:\n",
    "    with kg_conn.cursor() as cursor:\n",
    "        for movie in movie_json_list:\n",
    "            movie_info_id = movie['id']\n",
    "            movie_actor = movie['actors']\n",
    "            movie_actor_id = [actor['id'] for actor in movie_actor]\n",
    "            movie_actor_id = list(set(movie_actor_id))\n",
    "            if '' in movie_actor_id:\n",
    "                movie_actor_id.remove('')\n",
    "            for actor_id in movie_actor_id:\n",
    "                # 判断movie_person中是否存在该ID\n",
    "                is_existed_sql = 'select 1 from `movie_person` where `movie_person_id` = ' + '\\'' + actor_id + '\\'' + 'limit 1'\n",
    "                cursor.execute(is_existed_sql)\n",
    "                is_existed = cursor.fetchone()\n",
    "                if is_existed is None:\n",
    "                    continue\n",
    "                actor_to_movie_sql = \"INSERT INTO `actor_to_movie` (`movie_info_id`, `movie_actor_id`) VALUES (%s, %s)\"\n",
    "                cursor.execute(actor_to_movie_sql, (movie_info_id, actor_id))\n",
    "        kg_conn.commit()\n",
    "except Exception as err:\n",
    "    print('actor_to_movie数据插入错误' + str(err))"
   ]
  },
  {
   "cell_type": "code",
   "execution_count": null,
   "id": "b498d67a",
   "metadata": {},
   "outputs": [],
   "source": [
    "sql = '''\n",
    "create index actor_to_movie_person\n",
    "  on actor_to_movie (movie_actor_id);\n",
    "'''\n",
    "with kg_conn.cursor() as cursor:\n",
    "    cursor.execute(sql)\n",
    "    kg_conn.commit()"
   ]
  },
  {
   "cell_type": "code",
   "execution_count": null,
   "id": "d3fcbfc2",
   "metadata": {},
   "outputs": [],
   "source": [
    "sql = \"SELECT * FROM actor_to_movie;\"\n",
    "with kg_conn.cursor() as cursor:\n",
    "    cursor.execute(sql)\n",
    "    result = cursor.fetchmany(10)\n",
    "result"
   ]
  },
  {
   "cell_type": "markdown",
   "id": "7b3c16ba",
   "metadata": {},
   "source": [
    "## 电影和编剧之间进行关联 `writer_to_movie`"
   ]
  },
  {
   "cell_type": "code",
   "execution_count": null,
   "id": "a2833555",
   "metadata": {},
   "outputs": [],
   "source": [
    "# sql = \"DROP TABLE  writer_to_movie;\"\n",
    "# with kg_conn.cursor() as cursor:\n",
    "#   cursor.execute(sql)\n",
    "#   kg_conn.commit()\n",
    "\n",
    "sql = '''\n",
    "create table writer_to_movie\n",
    "(\n",
    "  movie_info_id   int not null,\n",
    "  movie_writer_id int not null,\n",
    "  primary key (movie_info_id, movie_writer_id),\n",
    "  constraint writer_to_movie_movie\n",
    "  foreign key (movie_info_id) references movie_info (movie_info_id),\n",
    "  constraint writer_to_movie_person\n",
    "  foreign key (movie_writer_id) references movie_person (movie_person_id)\n",
    ");\n",
    "'''\n",
    "with kg_conn.cursor() as cursor:\n",
    "    cursor.execute(sql)\n",
    "    kg_conn.commit()"
   ]
  },
  {
   "cell_type": "code",
   "execution_count": null,
   "id": "778ddd1a",
   "metadata": {},
   "outputs": [],
   "source": [
    "try:\n",
    "    with kg_conn.cursor() as cursor:\n",
    "        for movie in movie_json_list:\n",
    "            movie_info_id = movie['id']\n",
    "            movie_writer = movie['writers']\n",
    "            movie_writer_id = [writer['id'] for writer in movie_writer]\n",
    "            movie_writer_id = list(set(movie_writer_id))\n",
    "            if '' in movie_writer_id:\n",
    "                movie_writer_id.remove('')\n",
    "            for writer_id in movie_writer_id:\n",
    "                # 判断movie_person中是否存在该ID\n",
    "                is_existed_sql = 'select 1 from `movie_person` where `movie_person_id` = ' + '\\'' + writer_id + '\\'' + 'limit 1'\n",
    "                cursor.execute(is_existed_sql)\n",
    "                is_existed = cursor.fetchone()\n",
    "                if is_existed is None:\n",
    "                    continue\n",
    "                writer_to_movie_sql = \"INSERT INTO `writer_to_movie` (`movie_info_id`, `movie_writer_id`) VALUES (%s, %s)\"\n",
    "                cursor.execute(writer_to_movie_sql, (movie_info_id, writer_id))\n",
    "        kg_conn.commit()\n",
    "except Exception as err:\n",
    "    print('actor_to_movie数据插入错误' + str(err))"
   ]
  },
  {
   "cell_type": "code",
   "execution_count": null,
   "id": "a913749e",
   "metadata": {},
   "outputs": [],
   "source": [
    "sql = '''\n",
    "create index writer_to_movie_person\n",
    "  on writer_to_movie (movie_writer_id);\n",
    "'''\n",
    "with kg_conn.cursor() as cursor:\n",
    "    cursor.execute(sql)\n",
    "    kg_conn.commit()"
   ]
  },
  {
   "cell_type": "code",
   "execution_count": null,
   "id": "7d775f0e",
   "metadata": {},
   "outputs": [],
   "source": [
    "sql = \"SELECT * FROM writer_to_movie;\"\n",
    "with kg_conn.cursor() as cursor:\n",
    "    cursor.execute(sql)\n",
    "    result = cursor.fetchmany(10)\n",
    "result"
   ]
  },
  {
   "cell_type": "markdown",
   "id": "6fb198b5",
   "metadata": {},
   "source": [
    "## 电影和电影类别之间进行关联"
   ]
  },
  {
   "cell_type": "code",
   "execution_count": null,
   "id": "a5daa9be",
   "metadata": {},
   "outputs": [],
   "source": [
    "# sql = \"DROP TABLE  movie_to_genre;\"\n",
    "# with kg_conn.cursor() as cursor:\n",
    "#   cursor.execute(sql)\n",
    "#   kg_conn.commit()\n",
    "\n",
    "sql = '''\n",
    "create table movie_to_genre\n",
    "(\n",
    "  movie_info_id  int not null,\n",
    "  movie_genre_id int not null,\n",
    "  primary key (movie_info_id, movie_genre_id),\n",
    "  constraint movie_to_genre_movie\n",
    "  foreign key (movie_info_id) references movie_info (movie_info_id),\n",
    "  constraint movie_to_genre_genre\n",
    "  foreign key (movie_genre_id) references movie_genre (movie_genre_id)\n",
    ");\n",
    "'''\n",
    "with kg_conn.cursor() as cursor:\n",
    "    cursor.execute(sql)\n",
    "    kg_conn.commit()"
   ]
  },
  {
   "cell_type": "code",
   "execution_count": null,
   "id": "6dc12205",
   "metadata": {},
   "outputs": [],
   "source": [
    "try:\n",
    "    with kg_conn.cursor() as cursor:\n",
    "        for movie in movie_json_list:\n",
    "            movie_info_id = movie['id']\n",
    "            movie_genres = movie['genres']\n",
    "            for genre in movie_genres:\n",
    "                movie_genre_id_sql = \"SELECT `movie_genre_id` FROM `movie_genre` where `movie_genre_name`=\" + '\\'' + str(\n",
    "                    genre) + '\\''\n",
    "                cursor.execute(movie_genre_id_sql)\n",
    "                movie_genre_info = cursor.fetchone()\n",
    "                movie_genre_id = movie_genre_info['movie_genre_id']\n",
    "\n",
    "                # 插入到movie_to_genre之中\n",
    "                # print(str(movie_info_id) + ':' + str(movie_genre_id))\n",
    "                movie_to_genre_sql = 'INSERT INTO `movie_to_genre` (`movie_info_id`, `movie_genre_id`) VALUES (%s, %s)'\n",
    "                cursor.execute(movie_to_genre_sql, (movie_info_id, movie_genre_id))\n",
    "        kg_conn.commit()\n",
    "\n",
    "except Exception as err:\n",
    "    print('movie_to_genre数据插入错误' + str(err))"
   ]
  },
  {
   "cell_type": "code",
   "execution_count": null,
   "id": "5269c1c5",
   "metadata": {},
   "outputs": [],
   "source": [
    "sql = '''\n",
    "create index movie_to_genre_idx\n",
    "  on movie_to_genre (movie_genre_id);\n",
    "'''\n",
    "with kg_conn.cursor() as cursor:\n",
    "    cursor.execute(sql)\n",
    "    kg_conn.commit()"
   ]
  },
  {
   "cell_type": "code",
   "execution_count": null,
   "id": "63cf2a55",
   "metadata": {},
   "outputs": [],
   "source": [
    "sql = \"SELECT * FROM movie_to_genre;\"\n",
    "with kg_conn.cursor() as cursor:\n",
    "    cursor.execute(sql)\n",
    "    result = cursor.fetchmany(10)\n",
    "result"
   ]
  },
  {
   "cell_type": "markdown",
   "id": "a5c38aba",
   "metadata": {},
   "source": [
    "## 显示所有 Table"
   ]
  },
  {
   "cell_type": "code",
   "execution_count": null,
   "id": "fd8d0e81",
   "metadata": {},
   "outputs": [],
   "source": [
    "sql = '''\n",
    "SHOW TABLES;\n",
    "'''\n",
    "with kg_conn.cursor() as cursor:\n",
    "    cursor.execute(sql)\n",
    "    result = cursor.fetchall()\n",
    "result"
   ]
  },
  {
   "cell_type": "markdown",
   "id": "96bf1f0f",
   "metadata": {},
   "source": [
    "RDB转换成RDF有两种方式，一是direct mapping，即直接映射。另一种为R2RDF(RDB to RDF Mapping Language)，链接为https://www.w3.org/TR/r2rml/。\n",
    "\n",
    "\n",
    "下面我们使用D2RQ工具将RDB数据转换到RDF形式。\n",
    "直接映射规则为:\n",
    "\n",
    "- 数据库的表作为本体中的类（Class）。\n",
    "- 表的列作为属性（Property）。\n",
    "- 表的行作为实例/资源。\n",
    "- 表的单元格值为字面量。\n",
    "- 如果单元格所在的列是外键，那么其值为IRI，或者说实体/资源。"
   ]
  },
  {
   "cell_type": "markdown",
   "id": "5f1648a1",
   "metadata": {},
   "source": [
    "## 在命令行中执行以下命令生成CSV"
   ]
  },
  {
   "cell_type": "markdown",
   "id": "e9c28116",
   "metadata": {},
   "source": [
    "```\n",
    "bin/mysql -A movie_kg -uroot -ppassword -e 'select * from movie_person;' > ~/code/git/fhaoguo/KnowledgeGraph/data/movie_kg/csv/movie_person.csv\n",
    "\n",
    "bin/mysql -A movie_kg -uroot -ppassword -e 'select * from movie_info;' > ~/code/git/fhaoguo/KnowledgeGraph/data/movie_kg/csv/movie_info.csv\n",
    "\n",
    "bin/mysql -A movie_kg -uroot -ppassword -e 'select * from movie_genre;' > ~/code/git/fhaoguo/KnowledgeGraph/data/movie_kg/csv/movie_genre.csv\n",
    "\n",
    "bin/mysql -A movie_kg -uroot -ppassword -e 'select * from movie_to_genre;' > ~/code/git/fhaoguo/KnowledgeGraph/data/movie_kg/csv/movie_to_genre.csv\n",
    "\n",
    "bin/mysql -A movie_kg -uroot -ppassword -e 'select * from actor_to_movie;' > ~/code/git/fhaoguo/KnowledgeGraph/data/movie_kg/csv/actor_to_movie.csv\n",
    "\n",
    "bin/mysql -A movie_kg -uroot -ppassword -e 'select * from writer_to_movie;' > ~/code/git/fhaoguo/KnowledgeGraph/data/movie_kg/csv/writer_to_movie.csv\n",
    "```"
   ]
  },
  {
   "cell_type": "markdown",
   "id": "4c342f6f",
   "metadata": {},
   "source": [
    "## 编辑属性"
   ]
  },
  {
   "cell_type": "code",
   "execution_count": 49,
   "id": "cd12b15f",
   "metadata": {},
   "outputs": [],
   "source": [
    "movie_person = pd.read_table(\"../data/movie_kg/csv/movie_person.csv\")\n",
    "columns = list(movie_person.columns)\n",
    "for i, name in enumerate(columns):\n",
    "    if i == 0:\n",
    "        columns[i] = columns[i] + \":ID\"\n",
    "    else:\n",
    "        columns[i] = columns[i] + \":string\"\n",
    "movie_person.columns = columns\n",
    "movie_person[\":LABEL\"] = \"person\"\n",
    "movie_person.to_csv(\"../data/movie_kg/csv/movie_person.csv\", index = None)"
   ]
  },
  {
   "cell_type": "code",
   "execution_count": 50,
   "id": "f58415bb",
   "metadata": {},
   "outputs": [],
   "source": [
    "movie_info = pd.read_table(\"../data/movie_kg/csv/movie_info.csv\")\n",
    "columns = list(movie_info.columns)\n",
    "for i, name in enumerate(columns):\n",
    "    if i == 0:\n",
    "        columns[i] = columns[i] + \":ID\"\n",
    "    else:\n",
    "        columns[i] = columns[i] + \":string\"\n",
    "movie_info.columns = columns\n",
    "movie_info[\":LABEL\"] = \"movie\"\n",
    "movie_info.to_csv(\"../data/movie_kg/csv/movie_info.csv\", index = None)"
   ]
  },
  {
   "cell_type": "code",
   "execution_count": 51,
   "id": "852add47",
   "metadata": {},
   "outputs": [],
   "source": [
    "movie_genre = pd.read_table(\"../data/movie_kg/csv/movie_genre.csv\")\n",
    "columns = list(movie_genre.columns)\n",
    "for i, name in enumerate(columns):\n",
    "    if i == 0:\n",
    "        columns[i] = columns[i] + \":ID\"\n",
    "    else:\n",
    "        columns[i] = columns[i] + \":string\"\n",
    "movie_genre.columns = columns\n",
    "movie_genre[\":LABEL\"] = \"genre\"\n",
    "movie_genre.to_csv(\"../data/movie_kg/csv/movie_genre.csv\", index = None)"
   ]
  },
  {
   "cell_type": "markdown",
   "id": "469570d1",
   "metadata": {},
   "source": [
    "## Clean Relationships"
   ]
  },
  {
   "cell_type": "code",
   "execution_count": 52,
   "id": "9b3ec432",
   "metadata": {},
   "outputs": [],
   "source": [
    "movie_info_set = set(movie_info[\"movie_info_id:ID\"].to_list())\n",
    "movie_genre_set = set(movie_genre[\"movie_genre_id:ID\"].to_list())\n",
    "movie_person_set = set(movie_person[\"movie_person_id:ID\"].to_list())"
   ]
  },
  {
   "cell_type": "code",
   "execution_count": 53,
   "id": "addcf634",
   "metadata": {
    "scrolled": true
   },
   "outputs": [],
   "source": [
    "movie_to_genre = pd.read_table(\"../data/movie_kg/csv/movie_to_genre.csv\")\n",
    "movie_to_genre.columns = [\":START_ID\", \":END_ID\"]\n",
    "movie_to_genre = movie_to_genre[movie_to_genre[\":START_ID\"].isin(movie_info_set) & movie_to_genre[\":END_ID\"].isin(movie_genre_set)]\n",
    "movie_to_genre[\":TYPE\"] = \"movie_to_genre\"\n",
    "movie_to_genre.to_csv(\"../data/movie_kg/csv/movie_to_genre2.csv\", index = None)"
   ]
  },
  {
   "cell_type": "code",
   "execution_count": 54,
   "id": "155e03ae",
   "metadata": {},
   "outputs": [],
   "source": [
    "actor_to_movie = pd.read_table(\"../data/movie_kg/csv/actor_to_movie.csv\")\n",
    "actor_to_movie.columns = [\":START_ID\", \":END_ID\"]\n",
    "actor_to_movie = actor_to_movie[actor_to_movie[\":START_ID\"].isin(movie_info_set) &  actor_to_movie[\":END_ID\"].isin(movie_person_set)]\n",
    "actor_to_movie[\":TYPE\"] = \"actor_to_movie\"\n",
    "actor_to_movie.to_csv(\"../data/movie_kg/csv/actor_to_movie2.csv\", index = None)"
   ]
  },
  {
   "cell_type": "code",
   "execution_count": 55,
   "id": "f6697444",
   "metadata": {},
   "outputs": [],
   "source": [
    "writer_to_movie = pd.read_table(\"../data/movie_kg/csv/writer_to_movie.csv\")\n",
    "writer_to_movie.columns = [\":START_ID\", \":END_ID\"]\n",
    "writer_to_movie = writer_to_movie[writer_to_movie[\":START_ID\"].isin(movie_info_set) &  writer_to_movie[\":END_ID\"].isin(movie_person_set)]\n",
    "writer_to_movie[\":TYPE\"] = \"writer_to_movie\"\n",
    "writer_to_movie.to_csv(\"../data/movie_kg/csv/writer_to_movie2.csv\", index = None)"
   ]
  },
  {
   "cell_type": "markdown",
   "id": "bec4ce64",
   "metadata": {},
   "source": [
    "## CSV导入Neo4j（ONgDB）"
   ]
  },
  {
   "cell_type": "markdown",
   "id": "83339a78",
   "metadata": {},
   "source": [
    "```\n",
    "bin/ongdb-admin import --database graph.db --nodes=import/movie_genre.csv --nodes=import/movie_info.csv --nodes=import/movie_person.csv --relationships=import/actor_to_movie2.csv --relationships=import/movie_to_genre2.csv --relationships=import/writer_to_movie2.csv\n",
    "```"
   ]
  },
  {
   "cell_type": "markdown",
   "id": "b2d5c92d",
   "metadata": {},
   "source": [
    "## 效果预览"
   ]
  },
  {
   "cell_type": "markdown",
   "id": "33e9b965",
   "metadata": {},
   "source": []
  }
 ],
 "metadata": {
  "kernelspec": {
   "display_name": "Python 3 (ipykernel)",
   "language": "python",
   "name": "python3"
  },
  "language_info": {
   "codemirror_mode": {
    "name": "ipython",
    "version": 3
   },
   "file_extension": ".py",
   "mimetype": "text/x-python",
   "name": "python",
   "nbconvert_exporter": "python",
   "pygments_lexer": "ipython3",
   "version": "3.9.7"
  }
 },
 "nbformat": 4,
 "nbformat_minor": 5
}
